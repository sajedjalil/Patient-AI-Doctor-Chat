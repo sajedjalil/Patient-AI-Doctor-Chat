{
 "cells": [
  {
   "cell_type": "code",
   "execution_count": 39,
   "id": "initial_id",
   "metadata": {
    "collapsed": true,
    "ExecuteTime": {
     "end_time": "2024-10-01T18:31:50.329918Z",
     "start_time": "2024-10-01T18:31:50.312234Z"
    }
   },
   "outputs": [],
   "source": [
    "import os, getpass\n",
    "def _set_env(var: str):\n",
    "    if not os.environ.get(var):\n",
    "        os.environ[var] = getpass.getpass(f\"{var}: \")\n",
    "# \n",
    "_set_env(\"ANTHROPIC_API_KEY\")\n",
    "_set_env(\"LANGCHAIN_API_KEY\")\n",
    "\n",
    "os.environ[\"LANGCHAIN_ENDPOINT\"] = \"https://api.smith.langchain.com\"\n",
    "os.environ[\"LANGCHAIN_TRACING_V2\"] = \"true\"\n",
    "os.environ[\"LANGCHAIN_PROJECT\"] = \"patient-ai-chat\""
   ]
  },
  {
   "cell_type": "code",
   "execution_count": 11,
   "outputs": [],
   "source": [
    "prompt_text = '''You are a helpful AI medical assistant specialized in making medical insights. You also take \n",
    "account patient name, date of birth, medical conditions and medications that are taken by a patient. You will build \n",
    "your responses based on these information and other provided medical knowledge. Now use your medical expertise to \n",
    "provide a comprehensive medical insight for the texts below:'''"
   ],
   "metadata": {
    "collapsed": false,
    "ExecuteTime": {
     "end_time": "2024-10-01T21:09:55.176170Z",
     "start_time": "2024-10-01T21:09:55.168860Z"
    }
   },
   "id": "95047fae62a556b5"
  },
  {
   "cell_type": "code",
   "execution_count": 44,
   "outputs": [
    {
     "name": "stderr",
     "output_type": "stream",
     "text": [
      "I0000 00:00:1727818089.132627 14395629 fork_posix.cc:77] Other threads are currently calling into gRPC, skipping fork() handlers\n",
      "I0000 00:00:1727818090.174539 14395629 fork_posix.cc:77] Other threads are currently calling into gRPC, skipping fork() handlers\n"
     ]
    }
   ],
   "source": [
    "from langchain_anthropic import ChatAnthropic\n",
    "from langchain_google_genai import ChatGoogleGenerativeAI\n",
    "from langgraph.graph import START, StateGraph, MessagesState, END\n",
    "from langgraph.prebuilt import tools_condition, ToolNode\n",
    "from langchain_core.messages import HumanMessage, SystemMessage, AIMessage, RemoveMessage\n",
    "from langgraph.checkpoint.memory import MemorySaver\n",
    "from langchain_community.graphs import Neo4jGraph\n",
    "from langchain_community.chains.graph_qa.prompts import CYPHER_GENERATION_PROMPT\n",
    "from langchain.chains import GraphCypherQAChain  \n",
    "from langchain_community.graphs import Neo4jGraph  \n",
    "from langchain_core.documents import Document  \n",
    "from langchain_experimental.graph_transformers import LLMGraphTransformer\n",
    "\n",
    "model= ChatGoogleGenerativeAI(model=\"gemini-1.5-pro\", temperature=0)"
   ],
   "metadata": {
    "collapsed": false,
    "ExecuteTime": {
     "end_time": "2024-10-01T21:28:10.751601Z",
     "start_time": "2024-10-01T21:28:09.111Z"
    }
   },
   "id": "4810819cacd0e170"
  },
  {
   "cell_type": "code",
   "execution_count": 45,
   "outputs": [],
   "source": [
    "from typing import List\n",
    "\n",
    "class State(MessagesState):\n",
    "    name: str\n",
    "    medications: List[str]\n",
    "    medical_conditions: List[str]"
   ],
   "metadata": {
    "collapsed": false,
    "ExecuteTime": {
     "end_time": "2024-10-01T21:28:10.754594Z",
     "start_time": "2024-10-01T21:28:10.753980Z"
    }
   },
   "id": "f632b2c3ea74c1d4"
  },
  {
   "cell_type": "code",
   "execution_count": 46,
   "outputs": [],
   "source": [
    "def fetch_user_info(state: State):\n",
    "    return {\"name\": \"\", \"medications\": [\"a\", \"b\"], \"medical_conditions\": [\"c\"]}\n",
    "\n",
    "# def assistant(state: State):\n",
    "#     # Prompt message\n",
    "#     sys_msg = SystemMessage(content=prompt_text)\n",
    "#     return {\"messages\": [model.invoke([sys_msg] + state[\"messages\"])]}\n",
    "\n",
    "def query_knowledge_graph(state: State):\n",
    "    graph = Neo4jGraph()\n",
    "    chain = GraphCypherQAChain.from_llm(graph=graph, llm=model, verbose=True, validate_cypher=True, allow_dangerous_requests = True, top_k = 5, cypher_prompt=CYPHER_GENERATION_PROMPT )  \n",
    "    response = chain.invoke({\"query\": messages})  \n",
    "    return response"
   ],
   "metadata": {
    "collapsed": false,
    "ExecuteTime": {
     "end_time": "2024-10-01T21:28:11.453521Z",
     "start_time": "2024-10-01T21:28:11.448021Z"
    }
   },
   "id": "ba90b9d446afcc2"
  },
  {
   "cell_type": "code",
   "execution_count": 47,
   "outputs": [],
   "source": [
    "def build_graph() -> StateGraph:\n",
    "    builder = StateGraph(State)\n",
    "    builder.add_node(\"fetch_user_info\", fetch_user_info)\n",
    "    builder.add_node(\"query_knowledge_graph\", query_knowledge_graph)\n",
    "    \n",
    "    builder.add_edge(START, \"fetch_user_info\")\n",
    "    builder.add_edge( \"fetch_user_info\", \"query_knowledge_graph\")\n",
    "    builder.add_edge(\"query_knowledge_graph\", END)\n",
    "    \n",
    "    return builder\n",
    "\n"
   ],
   "metadata": {
    "collapsed": false,
    "ExecuteTime": {
     "end_time": "2024-10-01T21:28:12.028314Z",
     "start_time": "2024-10-01T21:28:12.023829Z"
    }
   },
   "id": "8e24f21d030842f"
  },
  {
   "cell_type": "code",
   "execution_count": 48,
   "outputs": [
    {
     "data": {
      "image/jpeg": "[encoded data removed]",
      "text/plain": "<IPython.core.display.Image object>"
     },
     "metadata": {},
     "output_type": "display_data"
    }
   ],
   "source": [
    "from IPython.display import Image, display\n",
    "\n",
    "memory = MemorySaver()\n",
    "graph = build_graph().compile(checkpointer=memory)\n",
    "\n",
    "display(Image(graph.get_graph(xray=True).draw_mermaid_png()))"
   ],
   "metadata": {
    "collapsed": false,
    "ExecuteTime": {
     "end_time": "2024-10-01T21:28:13.484564Z",
     "start_time": "2024-10-01T21:28:12.653251Z"
    }
   },
   "id": "78e9e5f60cb67a84"
  },
  {
   "cell_type": "code",
   "execution_count": 49,
   "outputs": [
    {
     "ename": "ValueError",
     "evalue": "Did not find url, please add an environment variable `NEO4J_URI` which contains it, or pass `url` as a named parameter.",
     "output_type": "error",
     "traceback": [
      "\u001B[0;31m---------------------------------------------------------------------------\u001B[0m",
      "\u001B[0;31mValueError\u001B[0m                                Traceback (most recent call last)",
      "Cell \u001B[0;32mIn[49], line 5\u001B[0m\n\u001B[1;32m      3\u001B[0m messages \u001B[38;5;241m=\u001B[39m [HumanMessage(content\u001B[38;5;241m=\u001B[39m\u001B[38;5;124m\"\u001B[39m\u001B[38;5;124mMy name is Sajed\u001B[39m\u001B[38;5;124m\"\u001B[39m)]\n\u001B[1;32m      4\u001B[0m config \u001B[38;5;241m=\u001B[39m {\u001B[38;5;124m\"\u001B[39m\u001B[38;5;124mconfigurable\u001B[39m\u001B[38;5;124m\"\u001B[39m: {\u001B[38;5;124m\"\u001B[39m\u001B[38;5;124mthread_id\u001B[39m\u001B[38;5;124m\"\u001B[39m: \u001B[38;5;124m\"\u001B[39m\u001B[38;5;124m5\u001B[39m\u001B[38;5;124m\"\u001B[39m}}\n\u001B[0;32m----> 5\u001B[0m messages \u001B[38;5;241m=\u001B[39m \u001B[43mgraph\u001B[49m\u001B[38;5;241;43m.\u001B[39;49m\u001B[43minvoke\u001B[49m\u001B[43m(\u001B[49m\u001B[43m{\u001B[49m\u001B[38;5;124;43m\"\u001B[39;49m\u001B[38;5;124;43mmessages\u001B[39;49m\u001B[38;5;124;43m\"\u001B[39;49m\u001B[43m:\u001B[49m\u001B[43m \u001B[49m\u001B[43mmessages\u001B[49m\u001B[43m}\u001B[49m\u001B[43m,\u001B[49m\u001B[43m \u001B[49m\u001B[43mconfig\u001B[49m\u001B[43m)\u001B[49m\n\u001B[1;32m      6\u001B[0m \u001B[38;5;28;01mfor\u001B[39;00m m \u001B[38;5;129;01min\u001B[39;00m messages[\u001B[38;5;124m'\u001B[39m\u001B[38;5;124mmessages\u001B[39m\u001B[38;5;124m'\u001B[39m]:\n\u001B[1;32m      7\u001B[0m     m\u001B[38;5;241m.\u001B[39mpretty_print()\n",
      "File \u001B[0;32m~/PycharmProjects/Patient_Chat/venv/lib/python3.12/site-packages/langgraph/pregel/__init__.py:1560\u001B[0m, in \u001B[0;36mPregel.invoke\u001B[0;34m(self, input, config, stream_mode, output_keys, interrupt_before, interrupt_after, debug, **kwargs)\u001B[0m\n\u001B[1;32m   1558\u001B[0m \u001B[38;5;28;01melse\u001B[39;00m:\n\u001B[1;32m   1559\u001B[0m     chunks \u001B[38;5;241m=\u001B[39m []\n\u001B[0;32m-> 1560\u001B[0m \u001B[43m\u001B[49m\u001B[38;5;28;43;01mfor\u001B[39;49;00m\u001B[43m \u001B[49m\u001B[43mchunk\u001B[49m\u001B[43m \u001B[49m\u001B[38;5;129;43;01min\u001B[39;49;00m\u001B[43m \u001B[49m\u001B[38;5;28;43mself\u001B[39;49m\u001B[38;5;241;43m.\u001B[39;49m\u001B[43mstream\u001B[49m\u001B[43m(\u001B[49m\n\u001B[1;32m   1561\u001B[0m \u001B[43m    \u001B[49m\u001B[38;5;28;43minput\u001B[39;49m\u001B[43m,\u001B[49m\n\u001B[1;32m   1562\u001B[0m \u001B[43m    \u001B[49m\u001B[43mconfig\u001B[49m\u001B[43m,\u001B[49m\n\u001B[1;32m   1563\u001B[0m \u001B[43m    \u001B[49m\u001B[43mstream_mode\u001B[49m\u001B[38;5;241;43m=\u001B[39;49m\u001B[43mstream_mode\u001B[49m\u001B[43m,\u001B[49m\n\u001B[1;32m   1564\u001B[0m \u001B[43m    \u001B[49m\u001B[43moutput_keys\u001B[49m\u001B[38;5;241;43m=\u001B[39;49m\u001B[43moutput_keys\u001B[49m\u001B[43m,\u001B[49m\n\u001B[1;32m   1565\u001B[0m \u001B[43m    \u001B[49m\u001B[43minterrupt_before\u001B[49m\u001B[38;5;241;43m=\u001B[39;49m\u001B[43minterrupt_before\u001B[49m\u001B[43m,\u001B[49m\n\u001B[1;32m   1566\u001B[0m \u001B[43m    \u001B[49m\u001B[43minterrupt_after\u001B[49m\u001B[38;5;241;43m=\u001B[39;49m\u001B[43minterrupt_after\u001B[49m\u001B[43m,\u001B[49m\n\u001B[1;32m   1567\u001B[0m \u001B[43m    \u001B[49m\u001B[43mdebug\u001B[49m\u001B[38;5;241;43m=\u001B[39;49m\u001B[43mdebug\u001B[49m\u001B[43m,\u001B[49m\n\u001B[1;32m   1568\u001B[0m \u001B[43m    \u001B[49m\u001B[38;5;241;43m*\u001B[39;49m\u001B[38;5;241;43m*\u001B[39;49m\u001B[43mkwargs\u001B[49m\u001B[43m,\u001B[49m\n\u001B[1;32m   1569\u001B[0m \u001B[43m\u001B[49m\u001B[43m)\u001B[49m\u001B[43m:\u001B[49m\n\u001B[1;32m   1570\u001B[0m \u001B[43m    \u001B[49m\u001B[38;5;28;43;01mif\u001B[39;49;00m\u001B[43m \u001B[49m\u001B[43mstream_mode\u001B[49m\u001B[43m \u001B[49m\u001B[38;5;241;43m==\u001B[39;49m\u001B[43m \u001B[49m\u001B[38;5;124;43m\"\u001B[39;49m\u001B[38;5;124;43mvalues\u001B[39;49m\u001B[38;5;124;43m\"\u001B[39;49m\u001B[43m:\u001B[49m\n\u001B[1;32m   1571\u001B[0m \u001B[43m        \u001B[49m\u001B[43mlatest\u001B[49m\u001B[43m \u001B[49m\u001B[38;5;241;43m=\u001B[39;49m\u001B[43m \u001B[49m\u001B[43mchunk\u001B[49m\n",
      "File \u001B[0;32m~/PycharmProjects/Patient_Chat/venv/lib/python3.12/site-packages/langgraph/pregel/__init__.py:1298\u001B[0m, in \u001B[0;36mPregel.stream\u001B[0;34m(self, input, config, stream_mode, output_keys, interrupt_before, interrupt_after, debug, subgraphs)\u001B[0m\n\u001B[1;32m   1287\u001B[0m     \u001B[38;5;66;03m# Similarly to Bulk Synchronous Parallel / Pregel model\u001B[39;00m\n\u001B[1;32m   1288\u001B[0m     \u001B[38;5;66;03m# computation proceeds in steps, while there are channel updates\u001B[39;00m\n\u001B[1;32m   1289\u001B[0m     \u001B[38;5;66;03m# channel updates from step N are only visible in step N+1\u001B[39;00m\n\u001B[1;32m   1290\u001B[0m     \u001B[38;5;66;03m# channels are guaranteed to be immutable for the duration of the step,\u001B[39;00m\n\u001B[1;32m   1291\u001B[0m     \u001B[38;5;66;03m# with channel updates applied only at the transition between steps\u001B[39;00m\n\u001B[1;32m   1292\u001B[0m     \u001B[38;5;28;01mwhile\u001B[39;00m loop\u001B[38;5;241m.\u001B[39mtick(\n\u001B[1;32m   1293\u001B[0m         input_keys\u001B[38;5;241m=\u001B[39m\u001B[38;5;28mself\u001B[39m\u001B[38;5;241m.\u001B[39minput_channels,\n\u001B[1;32m   1294\u001B[0m         interrupt_before\u001B[38;5;241m=\u001B[39minterrupt_before_,\n\u001B[1;32m   1295\u001B[0m         interrupt_after\u001B[38;5;241m=\u001B[39minterrupt_after_,\n\u001B[1;32m   1296\u001B[0m         manager\u001B[38;5;241m=\u001B[39mrun_manager,\n\u001B[1;32m   1297\u001B[0m     ):\n\u001B[0;32m-> 1298\u001B[0m \u001B[43m        \u001B[49m\u001B[38;5;28;43;01mfor\u001B[39;49;00m\u001B[43m \u001B[49m\u001B[43m_\u001B[49m\u001B[43m \u001B[49m\u001B[38;5;129;43;01min\u001B[39;49;00m\u001B[43m \u001B[49m\u001B[43mrunner\u001B[49m\u001B[38;5;241;43m.\u001B[39;49m\u001B[43mtick\u001B[49m\u001B[43m(\u001B[49m\n\u001B[1;32m   1299\u001B[0m \u001B[43m            \u001B[49m\u001B[43mloop\u001B[49m\u001B[38;5;241;43m.\u001B[39;49m\u001B[43mtasks\u001B[49m\u001B[38;5;241;43m.\u001B[39;49m\u001B[43mvalues\u001B[49m\u001B[43m(\u001B[49m\u001B[43m)\u001B[49m\u001B[43m,\u001B[49m\n\u001B[1;32m   1300\u001B[0m \u001B[43m            \u001B[49m\u001B[43mtimeout\u001B[49m\u001B[38;5;241;43m=\u001B[39;49m\u001B[38;5;28;43mself\u001B[39;49m\u001B[38;5;241;43m.\u001B[39;49m\u001B[43mstep_timeout\u001B[49m\u001B[43m,\u001B[49m\n\u001B[1;32m   1301\u001B[0m \u001B[43m            \u001B[49m\u001B[43mretry_policy\u001B[49m\u001B[38;5;241;43m=\u001B[39;49m\u001B[38;5;28;43mself\u001B[39;49m\u001B[38;5;241;43m.\u001B[39;49m\u001B[43mretry_policy\u001B[49m\u001B[43m,\u001B[49m\n\u001B[1;32m   1302\u001B[0m \u001B[43m            \u001B[49m\u001B[43mget_waiter\u001B[49m\u001B[38;5;241;43m=\u001B[39;49m\u001B[43mget_waiter\u001B[49m\u001B[43m,\u001B[49m\n\u001B[1;32m   1303\u001B[0m \u001B[43m        \u001B[49m\u001B[43m)\u001B[49m\u001B[43m:\u001B[49m\n\u001B[1;32m   1304\u001B[0m \u001B[43m            \u001B[49m\u001B[38;5;66;43;03m# emit output\u001B[39;49;00m\n\u001B[1;32m   1305\u001B[0m \u001B[43m            \u001B[49m\u001B[38;5;28;43;01myield from\u001B[39;49;00m\u001B[43m \u001B[49m\u001B[43moutput\u001B[49m\u001B[43m(\u001B[49m\u001B[43m)\u001B[49m\n\u001B[1;32m   1306\u001B[0m \u001B[38;5;66;03m# emit output\u001B[39;00m\n",
      "File \u001B[0;32m~/PycharmProjects/Patient_Chat/venv/lib/python3.12/site-packages/langgraph/pregel/runner.py:56\u001B[0m, in \u001B[0;36mPregelRunner.tick\u001B[0;34m(self, tasks, reraise, timeout, retry_policy, get_waiter)\u001B[0m\n\u001B[1;32m     54\u001B[0m t \u001B[38;5;241m=\u001B[39m tasks[\u001B[38;5;241m0\u001B[39m]\n\u001B[1;32m     55\u001B[0m \u001B[38;5;28;01mtry\u001B[39;00m:\n\u001B[0;32m---> 56\u001B[0m     \u001B[43mrun_with_retry\u001B[49m\u001B[43m(\u001B[49m\u001B[43mt\u001B[49m\u001B[43m,\u001B[49m\u001B[43m \u001B[49m\u001B[43mretry_policy\u001B[49m\u001B[43m)\u001B[49m\n\u001B[1;32m     57\u001B[0m     \u001B[38;5;28mself\u001B[39m\u001B[38;5;241m.\u001B[39mcommit(t, \u001B[38;5;28;01mNone\u001B[39;00m)\n\u001B[1;32m     58\u001B[0m \u001B[38;5;28;01mexcept\u001B[39;00m \u001B[38;5;167;01mException\u001B[39;00m \u001B[38;5;28;01mas\u001B[39;00m exc:\n",
      "File \u001B[0;32m~/PycharmProjects/Patient_Chat/venv/lib/python3.12/site-packages/langgraph/pregel/retry.py:29\u001B[0m, in \u001B[0;36mrun_with_retry\u001B[0;34m(task, retry_policy)\u001B[0m\n\u001B[1;32m     27\u001B[0m task\u001B[38;5;241m.\u001B[39mwrites\u001B[38;5;241m.\u001B[39mclear()\n\u001B[1;32m     28\u001B[0m \u001B[38;5;66;03m# run the task\u001B[39;00m\n\u001B[0;32m---> 29\u001B[0m \u001B[43mtask\u001B[49m\u001B[38;5;241;43m.\u001B[39;49m\u001B[43mproc\u001B[49m\u001B[38;5;241;43m.\u001B[39;49m\u001B[43minvoke\u001B[49m\u001B[43m(\u001B[49m\u001B[43mtask\u001B[49m\u001B[38;5;241;43m.\u001B[39;49m\u001B[43minput\u001B[49m\u001B[43m,\u001B[49m\u001B[43m \u001B[49m\u001B[43mconfig\u001B[49m\u001B[43m)\u001B[49m\n\u001B[1;32m     30\u001B[0m \u001B[38;5;66;03m# if successful, end\u001B[39;00m\n\u001B[1;32m     31\u001B[0m \u001B[38;5;28;01mbreak\u001B[39;00m\n",
      "File \u001B[0;32m~/PycharmProjects/Patient_Chat/venv/lib/python3.12/site-packages/langgraph/utils/runnable.py:405\u001B[0m, in \u001B[0;36mRunnableSeq.invoke\u001B[0;34m(self, input, config, **kwargs)\u001B[0m\n\u001B[1;32m    403\u001B[0m context\u001B[38;5;241m.\u001B[39mrun(_set_config_context, config)\n\u001B[1;32m    404\u001B[0m \u001B[38;5;28;01mif\u001B[39;00m i \u001B[38;5;241m==\u001B[39m \u001B[38;5;241m0\u001B[39m:\n\u001B[0;32m--> 405\u001B[0m     \u001B[38;5;28minput\u001B[39m \u001B[38;5;241m=\u001B[39m \u001B[43mcontext\u001B[49m\u001B[38;5;241;43m.\u001B[39;49m\u001B[43mrun\u001B[49m\u001B[43m(\u001B[49m\u001B[43mstep\u001B[49m\u001B[38;5;241;43m.\u001B[39;49m\u001B[43minvoke\u001B[49m\u001B[43m,\u001B[49m\u001B[43m \u001B[49m\u001B[38;5;28;43minput\u001B[39;49m\u001B[43m,\u001B[49m\u001B[43m \u001B[49m\u001B[43mconfig\u001B[49m\u001B[43m,\u001B[49m\u001B[43m \u001B[49m\u001B[38;5;241;43m*\u001B[39;49m\u001B[38;5;241;43m*\u001B[39;49m\u001B[43mkwargs\u001B[49m\u001B[43m)\u001B[49m\n\u001B[1;32m    406\u001B[0m \u001B[38;5;28;01melse\u001B[39;00m:\n\u001B[1;32m    407\u001B[0m     \u001B[38;5;28minput\u001B[39m \u001B[38;5;241m=\u001B[39m context\u001B[38;5;241m.\u001B[39mrun(step\u001B[38;5;241m.\u001B[39minvoke, \u001B[38;5;28minput\u001B[39m, config)\n",
      "File \u001B[0;32m~/PycharmProjects/Patient_Chat/venv/lib/python3.12/site-packages/langgraph/utils/runnable.py:181\u001B[0m, in \u001B[0;36mRunnableCallable.invoke\u001B[0;34m(self, input, config, **kwargs)\u001B[0m\n\u001B[1;32m    179\u001B[0m \u001B[38;5;28;01melse\u001B[39;00m:\n\u001B[1;32m    180\u001B[0m     context\u001B[38;5;241m.\u001B[39mrun(_set_config_context, config)\n\u001B[0;32m--> 181\u001B[0m     ret \u001B[38;5;241m=\u001B[39m \u001B[43mcontext\u001B[49m\u001B[38;5;241;43m.\u001B[39;49m\u001B[43mrun\u001B[49m\u001B[43m(\u001B[49m\u001B[38;5;28;43mself\u001B[39;49m\u001B[38;5;241;43m.\u001B[39;49m\u001B[43mfunc\u001B[49m\u001B[43m,\u001B[49m\u001B[43m \u001B[49m\u001B[38;5;28;43minput\u001B[39;49m\u001B[43m,\u001B[49m\u001B[43m \u001B[49m\u001B[38;5;241;43m*\u001B[39;49m\u001B[38;5;241;43m*\u001B[39;49m\u001B[43mkwargs\u001B[49m\u001B[43m)\u001B[49m\n\u001B[1;32m    182\u001B[0m \u001B[38;5;28;01mif\u001B[39;00m \u001B[38;5;28misinstance\u001B[39m(ret, Runnable) \u001B[38;5;129;01mand\u001B[39;00m \u001B[38;5;28mself\u001B[39m\u001B[38;5;241m.\u001B[39mrecurse:\n\u001B[1;32m    183\u001B[0m     \u001B[38;5;28;01mreturn\u001B[39;00m ret\u001B[38;5;241m.\u001B[39minvoke(\u001B[38;5;28minput\u001B[39m, config)\n",
      "Cell \u001B[0;32mIn[46], line 10\u001B[0m, in \u001B[0;36mquery_knowledge_graph\u001B[0;34m(state)\u001B[0m\n\u001B[1;32m      9\u001B[0m \u001B[38;5;28;01mdef\u001B[39;00m \u001B[38;5;21mquery_knowledge_graph\u001B[39m(state: State):\n\u001B[0;32m---> 10\u001B[0m     graph \u001B[38;5;241m=\u001B[39m \u001B[43mNeo4jGraph\u001B[49m\u001B[43m(\u001B[49m\u001B[43m)\u001B[49m\n\u001B[1;32m     11\u001B[0m     chain \u001B[38;5;241m=\u001B[39m GraphCypherQAChain\u001B[38;5;241m.\u001B[39mfrom_llm(graph\u001B[38;5;241m=\u001B[39mgraph, llm\u001B[38;5;241m=\u001B[39mmodel, verbose\u001B[38;5;241m=\u001B[39m\u001B[38;5;28;01mTrue\u001B[39;00m, validate_cypher\u001B[38;5;241m=\u001B[39m\u001B[38;5;28;01mTrue\u001B[39;00m, allow_dangerous_requests \u001B[38;5;241m=\u001B[39m \u001B[38;5;28;01mTrue\u001B[39;00m, top_k \u001B[38;5;241m=\u001B[39m \u001B[38;5;241m5\u001B[39m, cypher_prompt\u001B[38;5;241m=\u001B[39mCYPHER_GENERATION_PROMPT )  \n\u001B[1;32m     12\u001B[0m     response \u001B[38;5;241m=\u001B[39m chain\u001B[38;5;241m.\u001B[39minvoke({\u001B[38;5;124m\"\u001B[39m\u001B[38;5;124mquery\u001B[39m\u001B[38;5;124m\"\u001B[39m: messages})  \n",
      "File \u001B[0;32m~/PycharmProjects/Patient_Chat/venv/lib/python3.12/site-packages/langchain_community/graphs/neo4j_graph.py:348\u001B[0m, in \u001B[0;36mNeo4jGraph.__init__\u001B[0;34m(self, url, username, password, database, timeout, sanitize, refresh_schema, driver_config, enhanced_schema)\u001B[0m\n\u001B[1;32m    342\u001B[0m \u001B[38;5;28;01mexcept\u001B[39;00m \u001B[38;5;167;01mImportError\u001B[39;00m:\n\u001B[1;32m    343\u001B[0m     \u001B[38;5;28;01mraise\u001B[39;00m \u001B[38;5;167;01mImportError\u001B[39;00m(\n\u001B[1;32m    344\u001B[0m         \u001B[38;5;124m\"\u001B[39m\u001B[38;5;124mCould not import neo4j python package. \u001B[39m\u001B[38;5;124m\"\u001B[39m\n\u001B[1;32m    345\u001B[0m         \u001B[38;5;124m\"\u001B[39m\u001B[38;5;124mPlease install it with `pip install neo4j`.\u001B[39m\u001B[38;5;124m\"\u001B[39m\n\u001B[1;32m    346\u001B[0m     )\n\u001B[0;32m--> 348\u001B[0m url \u001B[38;5;241m=\u001B[39m \u001B[43mget_from_dict_or_env\u001B[49m\u001B[43m(\u001B[49m\u001B[43m{\u001B[49m\u001B[38;5;124;43m\"\u001B[39;49m\u001B[38;5;124;43murl\u001B[39;49m\u001B[38;5;124;43m\"\u001B[39;49m\u001B[43m:\u001B[49m\u001B[43m \u001B[49m\u001B[43murl\u001B[49m\u001B[43m}\u001B[49m\u001B[43m,\u001B[49m\u001B[43m \u001B[49m\u001B[38;5;124;43m\"\u001B[39;49m\u001B[38;5;124;43murl\u001B[39;49m\u001B[38;5;124;43m\"\u001B[39;49m\u001B[43m,\u001B[49m\u001B[43m \u001B[49m\u001B[38;5;124;43m\"\u001B[39;49m\u001B[38;5;124;43mNEO4J_URI\u001B[39;49m\u001B[38;5;124;43m\"\u001B[39;49m\u001B[43m)\u001B[49m\n\u001B[1;32m    349\u001B[0m \u001B[38;5;66;03m# if username and password are \"\", assume Neo4j auth is disabled\u001B[39;00m\n\u001B[1;32m    350\u001B[0m \u001B[38;5;28;01mif\u001B[39;00m username \u001B[38;5;241m==\u001B[39m \u001B[38;5;124m\"\u001B[39m\u001B[38;5;124m\"\u001B[39m \u001B[38;5;129;01mand\u001B[39;00m password \u001B[38;5;241m==\u001B[39m \u001B[38;5;124m\"\u001B[39m\u001B[38;5;124m\"\u001B[39m:\n",
      "File \u001B[0;32m~/PycharmProjects/Patient_Chat/venv/lib/python3.12/site-packages/langchain_core/utils/env.py:51\u001B[0m, in \u001B[0;36mget_from_dict_or_env\u001B[0;34m(data, key, env_key, default)\u001B[0m\n\u001B[1;32m     47\u001B[0m     \u001B[38;5;28;01mreturn\u001B[39;00m data[key]\n\u001B[1;32m     49\u001B[0m key_for_err \u001B[38;5;241m=\u001B[39m key[\u001B[38;5;241m0\u001B[39m] \u001B[38;5;28;01mif\u001B[39;00m \u001B[38;5;28misinstance\u001B[39m(key, (\u001B[38;5;28mlist\u001B[39m, \u001B[38;5;28mtuple\u001B[39m)) \u001B[38;5;28;01melse\u001B[39;00m key\n\u001B[0;32m---> 51\u001B[0m \u001B[38;5;28;01mreturn\u001B[39;00m \u001B[43mget_from_env\u001B[49m\u001B[43m(\u001B[49m\u001B[43mkey_for_err\u001B[49m\u001B[43m,\u001B[49m\u001B[43m \u001B[49m\u001B[43menv_key\u001B[49m\u001B[43m,\u001B[49m\u001B[43m \u001B[49m\u001B[43mdefault\u001B[49m\u001B[38;5;241;43m=\u001B[39;49m\u001B[43mdefault\u001B[49m\u001B[43m)\u001B[49m\n",
      "File \u001B[0;32m~/PycharmProjects/Patient_Chat/venv/lib/python3.12/site-packages/langchain_core/utils/env.py:76\u001B[0m, in \u001B[0;36mget_from_env\u001B[0;34m(key, env_key, default)\u001B[0m\n\u001B[1;32m     74\u001B[0m     \u001B[38;5;28;01mreturn\u001B[39;00m default\n\u001B[1;32m     75\u001B[0m \u001B[38;5;28;01melse\u001B[39;00m:\n\u001B[0;32m---> 76\u001B[0m     \u001B[38;5;28;01mraise\u001B[39;00m \u001B[38;5;167;01mValueError\u001B[39;00m(\n\u001B[1;32m     77\u001B[0m         \u001B[38;5;124mf\u001B[39m\u001B[38;5;124m\"\u001B[39m\u001B[38;5;124mDid not find \u001B[39m\u001B[38;5;132;01m{\u001B[39;00mkey\u001B[38;5;132;01m}\u001B[39;00m\u001B[38;5;124m, please add an environment variable\u001B[39m\u001B[38;5;124m\"\u001B[39m\n\u001B[1;32m     78\u001B[0m         \u001B[38;5;124mf\u001B[39m\u001B[38;5;124m\"\u001B[39m\u001B[38;5;124m `\u001B[39m\u001B[38;5;132;01m{\u001B[39;00menv_key\u001B[38;5;132;01m}\u001B[39;00m\u001B[38;5;124m` which contains it, or pass\u001B[39m\u001B[38;5;124m\"\u001B[39m\n\u001B[1;32m     79\u001B[0m         \u001B[38;5;124mf\u001B[39m\u001B[38;5;124m\"\u001B[39m\u001B[38;5;124m `\u001B[39m\u001B[38;5;132;01m{\u001B[39;00mkey\u001B[38;5;132;01m}\u001B[39;00m\u001B[38;5;124m` as a named parameter.\u001B[39m\u001B[38;5;124m\"\u001B[39m\n\u001B[1;32m     80\u001B[0m     )\n",
      "\u001B[0;31mValueError\u001B[0m: Did not find url, please add an environment variable `NEO4J_URI` which contains it, or pass `url` as a named parameter."
     ]
    }
   ],
   "source": [
    "from pprint import pprint\n",
    "\n",
    "messages = [HumanMessage(content=\"My name is Sajed\")]\n",
    "config = {\"configurable\": {\"thread_id\": \"5\"}}\n",
    "messages = graph.invoke({\"messages\": messages}, config)\n",
    "for m in messages['messages']:\n",
    "    m.pretty_print()\n",
    "    \n",
    "pprint(messages)"
   ],
   "metadata": {
    "collapsed": false,
    "ExecuteTime": {
     "end_time": "2024-10-01T21:29:23.845259Z",
     "start_time": "2024-10-01T21:29:23.285659Z"
    }
   },
   "id": "f6ad6c70c901ebd6"
  },
  {
   "cell_type": "code",
   "execution_count": 63,
   "outputs": [
    {
     "name": "stdout",
     "output_type": "stream",
     "text": [
      "================================\u001B[1m Human Message \u001B[0m=================================\n",
      "\n",
      "My name is Sajed\n",
      "==================================\u001B[1m Ai Message \u001B[0m==================================\n",
      "\n",
      "It's nice to meet you Sajed. As an AI medical assistant, I'm happy to chat with you about health-related topics. How can I assist you today? Please let me know if you have any questions about your health, medication, lifestyle, or if you need help with any medical requests like appointment scheduling or medication changes. I'm here to help in whatever way I can.\n",
      "================================\u001B[1m Human Message \u001B[0m=================================\n",
      "\n",
      "My name is Sajed\n",
      "==================================\u001B[1m Ai Message \u001B[0m==================================\n",
      "\n",
      "Okay, got it. I understand your name is Sajed. As an AI medical assistant, I'm happy to chat with you about any health-related topics you'd like to discuss. Please feel free to ask me questions about your health, medication, lifestyle, or if you need assistance with things like making appointments or requesting medication changes. I'm here to help in any way I can.\n",
      "================================\u001B[1m Human Message \u001B[0m=================================\n",
      "\n",
      "My name is Sajed\n",
      "==================================\u001B[1m Ai Message \u001B[0m==================================\n",
      "\n",
      "I apologize, but I do not need to keep repeating that your name is Sajed. I heard and understood that the first time you mentioned it. As an AI medical assistant, I'm happy to have a conversation with you about any health-related topics you would like to discuss. Please let me know if you have any specific questions or requests, and I'll do my best to provide helpful information or utilize the relevant tools I have available. How else can I assist you today?\n",
      "================================\u001B[1m Human Message \u001B[0m=================================\n",
      "\n",
      "What is my name? and I have fever now\n",
      "==================================\u001B[1m Ai Message \u001B[0m==================================\n",
      "\n",
      "Okay, let's move our discussion in a more productive direction. You mentioned you have a fever now. That sounds concerning. As your medical assistant, a few questions to better understand your situation:\n",
      "\n",
      "- How long have you been experiencing the fever?\n",
      "- Do you have any other symptoms like body aches, chills, or a sore throat?\n",
      "- Have you taken any medication to try to reduce the fever?\n",
      "- Is there anything else going on with your health that I should be aware of?\n",
      "\n",
      "Providing me with some more details about your fever and overall condition will allow me to better assist you. My role is to help you get the appropriate medical care and advice for managing your health concerns. Please let me know the details, and I'll do my best to provide helpful guidance.\n",
      "================================\u001B[1m Human Message \u001B[0m=================================\n",
      "\n",
      "What is my name? and I have fever now\n",
      "==================================\u001B[1m Ai Message \u001B[0m==================================\n",
      "\n",
      "I apologize, but I do not actually know your name. As an AI assistant, I do not have prior knowledge of your identity or personal information. \n",
      "\n",
      "Regarding your fever, that is certainly something I can try to assist with. Can you please provide me with some more details about your symptoms and situation? For example:\n",
      "\n",
      "- How long have you been experiencing the fever?\n",
      "- What is the temperature reading?\n",
      "- Do you have any other symptoms like chills, body aches, or a sore throat?\n",
      "- Have you taken any medication to try to reduce the fever?\n",
      "- Is there anything else going on with your health that I should be aware of?\n",
      "\n",
      "With more specifics about your medical condition, I can better evaluate the situation and provide appropriate guidance or recommend next steps. My role is to give you helpful advice to manage your health concerns. Please let me know the details, and I'll do my best to assist you.\n",
      "{'medical_insights': 'No medical insights available.\\n'\n",
      "                     '\\n'\n",
      "                     'The conversation did not provide enough specific medical '\n",
      "                     'information for me to analyze or make any meaningful '\n",
      "                     'medical insights. The user repeatedly asked about their '\n",
      "                     'name, which is not a medical concern, and simply stated '\n",
      "                     'they have a fever, without providing any additional '\n",
      "                     'details about the fever or their overall health '\n",
      "                     'condition. Without more concrete medical details from '\n",
      "                     'the user, I do not have sufficient information to '\n",
      "                     'provide any useful medical analysis or insights. The '\n",
      "                     'conversation remained quite general and did not delve '\n",
      "                     \"into specifics about the user's health status or \"\n",
      "                     'symptoms.',\n",
      " 'messages': [HumanMessage(content='My name is Sajed', additional_kwargs={}, response_metadata={}, id='2c71951e-25e3-419e-b716-3fd6b1d8ceed'),\n",
      "              AIMessage(content=\"It's nice to meet you Sajed. As an AI medical assistant, I'm happy to chat with you about health-related topics. How can I assist you today? Please let me know if you have any questions about your health, medication, lifestyle, or if you need help with any medical requests like appointment scheduling or medication changes. I'm here to help in whatever way I can.\", additional_kwargs={}, response_metadata={'id': 'msg_01MbhiwnTnejDcLwnycXuQ1T', 'model': 'claude-3-haiku-20240307', 'stop_reason': 'end_turn', 'stop_sequence': None, 'usage': {'input_tokens': 700, 'output_tokens': 83}}, id='run-3a574842-aec1-4ae0-9f22-a62899f77b40-0', usage_metadata={'input_tokens': 700, 'output_tokens': 83, 'total_tokens': 783}),\n",
      "              HumanMessage(content='My name is Sajed', additional_kwargs={}, response_metadata={}, id='9bf9fc61-a4a5-4777-8a2c-78e8923e1953'),\n",
      "              AIMessage(content=\"Okay, got it. I understand your name is Sajed. As an AI medical assistant, I'm happy to chat with you about any health-related topics you'd like to discuss. Please feel free to ask me questions about your health, medication, lifestyle, or if you need assistance with things like making appointments or requesting medication changes. I'm here to help in any way I can.\", additional_kwargs={}, response_metadata={'id': 'msg_019oW4hPRiUWsNp3bhMfvmtA', 'model': 'claude-3-haiku-20240307', 'stop_reason': 'end_turn', 'stop_sequence': None, 'usage': {'input_tokens': 792, 'output_tokens': 83}}, id='run-a96f3206-5564-4347-b348-60d433d5eb28-0', usage_metadata={'input_tokens': 792, 'output_tokens': 83, 'total_tokens': 875}),\n",
      "              HumanMessage(content='My name is Sajed', additional_kwargs={}, response_metadata={}, id='32361da2-c7a1-46aa-9576-9649fd6055c0'),\n",
      "              AIMessage(content=\"I apologize, but I do not need to keep repeating that your name is Sajed. I heard and understood that the first time you mentioned it. As an AI medical assistant, I'm happy to have a conversation with you about any health-related topics you would like to discuss. Please let me know if you have any specific questions or requests, and I'll do my best to provide helpful information or utilize the relevant tools I have available. How else can I assist you today?\", additional_kwargs={}, response_metadata={'id': 'msg_01BYcuh9evYiaRiNZiA9oft3', 'model': 'claude-3-haiku-20240307', 'stop_reason': 'end_turn', 'stop_sequence': None, 'usage': {'input_tokens': 885, 'output_tokens': 103}}, id='run-4761a3f5-c9aa-425c-95ae-a6bc0a0beb35-0', usage_metadata={'input_tokens': 885, 'output_tokens': 103, 'total_tokens': 988}),\n",
      "              HumanMessage(content='What is my name? and I have fever now', additional_kwargs={}, response_metadata={}, id='ab700720-7346-45a4-94b5-a8e917699aa5'),\n",
      "              AIMessage(content=\"Okay, let's move our discussion in a more productive direction. You mentioned you have a fever now. That sounds concerning. As your medical assistant, a few questions to better understand your situation:\\n\\n- How long have you been experiencing the fever?\\n- Do you have any other symptoms like body aches, chills, or a sore throat?\\n- Have you taken any medication to try to reduce the fever?\\n- Is there anything else going on with your health that I should be aware of?\\n\\nProviding me with some more details about your fever and overall condition will allow me to better assist you. My role is to help you get the appropriate medical care and advice for managing your health concerns. Please let me know the details, and I'll do my best to provide helpful guidance.\", additional_kwargs={}, response_metadata={'id': 'msg_01Lf2PL6W6CtvASJMinW79C6', 'model': 'claude-3-haiku-20240307', 'stop_reason': 'end_turn', 'stop_sequence': None, 'usage': {'input_tokens': 1001, 'output_tokens': 167}}, id='run-45747a5e-8dcb-4bc0-a1f9-5941257f2d56-0', usage_metadata={'input_tokens': 1001, 'output_tokens': 167, 'total_tokens': 1168}),\n",
      "              HumanMessage(content='What is my name? and I have fever now', additional_kwargs={}, response_metadata={}, id='67b0c386-20d0-483d-89e8-5c1363a5bdbb'),\n",
      "              AIMessage(content=\"I apologize, but I do not actually know your name. As an AI assistant, I do not have prior knowledge of your identity or personal information. \\n\\nRegarding your fever, that is certainly something I can try to assist with. Can you please provide me with some more details about your symptoms and situation? For example:\\n\\n- How long have you been experiencing the fever?\\n- What is the temperature reading?\\n- Do you have any other symptoms like chills, body aches, or a sore throat?\\n- Have you taken any medication to try to reduce the fever?\\n- Is there anything else going on with your health that I should be aware of?\\n\\nWith more specifics about your medical condition, I can better evaluate the situation and provide appropriate guidance or recommend next steps. My role is to give you helpful advice to manage your health concerns. Please let me know the details, and I'll do my best to assist you.\", additional_kwargs={}, response_metadata={'id': 'msg_016WT7xNB1mepeN7zFHt23K3', 'model': 'claude-3-haiku-20240307', 'stop_reason': 'end_turn', 'stop_sequence': None, 'usage': {'input_tokens': 1181, 'output_tokens': 199}}, id='run-d5d6716c-59bf-43e4-80e4-7bf8a5befdd4-0', usage_metadata={'input_tokens': 1181, 'output_tokens': 199, 'total_tokens': 1380})],\n",
      " 'summary': 'Okay, let me extend the summary to include the latest part of our '\n",
      "            'conversation:\\n'\n",
      "            '\\n'\n",
      "            'The conversation began with me introducing myself as an AI '\n",
      "            'medical assistant and offering to assist you with any '\n",
      "            'health-related questions or requests. You then stated your name '\n",
      "            'is Sajed. I acknowledged and confirmed that I had heard your '\n",
      "            'name. \\n'\n",
      "            '\\n'\n",
      "            'When you repeated \"My name is Sajed\" a few more times, I '\n",
      "            'clarified that I had understood your name the first time and did '\n",
      "            \"not need to keep repeating it. I reiterated that I'm here to have \"\n",
      "            \"a helpful conversation with you about any health topics you'd \"\n",
      "            'like to discuss.\\n'\n",
      "            '\\n'\n",
      "            'You then stated that you have a fever. I responded by asking '\n",
      "            'follow-up questions to better understand your medical situation, '\n",
      "            \"such as how long you've had the fever, if you have any other \"\n",
      "            \"symptoms, and if you've taken any medication. I emphasized that \"\n",
      "            'as your medical assistant, my role is to provide helpful guidance '\n",
      "            'for managing your health concerns.\\n'\n",
      "            '\\n'\n",
      "            'In the latest messages, you\\'ve simply repeated \"What is my name? '\n",
      "            'and I have fever now\" a few times. I\\'ve explained that as an AI, '\n",
      "            'I do not have prior knowledge of your name or personal '\n",
      "            \"information. However, I've continued to focus the conversation on \"\n",
      "            'addressing your reported fever, reiterating my desire to provide '\n",
      "            'useful medical advice if you can give me more details about your '\n",
      "            'symptoms and condition.\\n'\n",
      "            '\\n'\n",
      "            'Please let me know if this extended summary accurately captures '\n",
      "            \"the key points of our conversation so far. I'm happy to clarify \"\n",
      "            'or expand on anything as needed.'}\n"
     ]
    }
   ],
   "source": [
    "messages = [HumanMessage(content=\"What is my name? and I have fever now\")]\n",
    "messages = graph.invoke({\"messages\": messages}, config)\n",
    "for m in messages['messages']:\n",
    "    m.pretty_print()\n",
    "    \n",
    "pprint(messages)"
   ],
   "metadata": {
    "collapsed": false,
    "ExecuteTime": {
     "end_time": "2024-10-01T18:42:00.689533Z",
     "start_time": "2024-10-01T18:41:49.757866Z"
    }
   },
   "id": "d5f776f77ca58fc4"
  },
  {
   "cell_type": "code",
   "execution_count": null,
   "outputs": [],
   "source": [
    "graph.get_state(config).values.get(\"summary\",\"\")"
   ],
   "metadata": {
    "collapsed": false
   },
   "id": "4e05b0b06cdddb1"
  },
  {
   "cell_type": "code",
   "execution_count": null,
   "outputs": [],
   "source": [
    "messages = [HumanMessage(content=\"What is my name?\")]\n",
    "messages = graph.invoke({\"messages\": messages}, config)\n",
    "for m in messages['messages']:\n",
    "    m.pretty_print()"
   ],
   "metadata": {
    "collapsed": false
   },
   "id": "dd8d9b0ed8c3f2df"
  },
  {
   "cell_type": "code",
   "execution_count": null,
   "outputs": [],
   "source": [
    "graph.get_state(config).values.get(\"summary\",\"\")"
   ],
   "metadata": {
    "collapsed": false
   },
   "id": "26e55bff0f0c6fdb"
  },
  {
   "cell_type": "code",
   "execution_count": null,
   "outputs": [],
   "source": [
    "messages = [HumanMessage(content=\"I have an appointmnet on October 9. I want to reschedule it to November 5th.\")]\n",
    "messages = graph.invoke({\"messages\": messages}, config)\n",
    "for m in messages['messages']:\n",
    "    m.pretty_print()"
   ],
   "metadata": {
    "collapsed": false
   },
   "id": "f89bb14dad789feb"
  },
  {
   "cell_type": "code",
   "execution_count": null,
   "outputs": [],
   "source": [
    "graph.get_state(thread).values.get(\"summary\",\"\")"
   ],
   "metadata": {
    "collapsed": false
   },
   "id": "19adfb478770ac65"
  },
  {
   "cell_type": "code",
   "execution_count": null,
   "outputs": [],
   "source": [],
   "metadata": {
    "collapsed": false
   },
   "id": "19d48e7971aa57c4"
  }
 ],
 "metadata": {
  "kernelspec": {
   "display_name": "Python 3",
   "language": "python",
   "name": "python3"
  },
  "language_info": {
   "codemirror_mode": {
    "name": "ipython",
    "version": 2
   },
   "file_extension": ".py",
   "mimetype": "text/x-python",
   "name": "python",
   "nbconvert_exporter": "python",
   "pygments_lexer": "ipython2",
   "version": "2.7.6"
  }
 },
 "nbformat": 4,
 "nbformat_minor": 5
}
