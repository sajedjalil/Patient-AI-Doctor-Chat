{
 "cells": [
  {
   "cell_type": "code",
   "execution_count": 1,
   "id": "initial_id",
   "metadata": {
    "collapsed": true,
    "ExecuteTime": {
     "end_time": "2024-10-01T02:47:16.566973Z",
     "start_time": "2024-10-01T02:47:16.563050Z"
    }
   },
   "outputs": [],
   "source": [
    "import os, getpass\n",
    "def _set_env(var: str):\n",
    "    if not os.environ.get(var):\n",
    "        os.environ[var] = getpass.getpass(f\"{var}: \")\n",
    "\n",
    "# _set_env(\"ANTHROPIC_API_KEY\")\n",
    "# _set_env(\"NEO4J_URI\")\n",
    "# _set_env(\"NEO4J_USERNAME\")\n",
    "# _set_env(\"NEO4J_PASSWORD\")"
   ]
  },
  {
   "cell_type": "code",
   "execution_count": 2,
   "outputs": [],
   "source": [
    "from dotenv import load_dotenv  \n",
    "from langchain.chains import GraphCypherQAChain  \n",
    "from langchain_community.graphs import Neo4jGraph  \n",
    "from langchain_core.documents import Document  \n",
    "from langchain_experimental.graph_transformers import LLMGraphTransformer  \n",
    "from langchain_anthropic import ChatAnthropic\n",
    "  \n",
    "load_dotenv()  \n",
    "  \n",
    "llm = ChatAnthropic(temperature=0, model_name=\"claude-3-haiku-20240307\")  \n",
    "  \n",
    "llm_transformer = LLMGraphTransformer(llm=llm)"
   ],
   "metadata": {
    "collapsed": false,
    "ExecuteTime": {
     "end_time": "2024-10-01T02:47:17.879863Z",
     "start_time": "2024-10-01T02:47:17.099496Z"
    }
   },
   "id": "748847bca9e66706"
  },
  {
   "cell_type": "code",
   "execution_count": 3,
   "outputs": [],
   "source": [
    "from langchain_community.chains.graph_qa.prompts import CYPHER_GENERATION_PROMPT\n",
    "\n",
    "graph = Neo4jGraph()\n",
    "\n",
    "def query_graph(graph, query):  \n",
    "    chain = GraphCypherQAChain.from_llm(graph=graph, llm=llm, verbose=True, validate_cypher=True, allow_dangerous_requests = True, top_k = 5, cypher_prompt=CYPHER_GENERATION_PROMPT )  \n",
    "    response = chain.invoke({\"query\": query})  \n",
    "    return response"
   ],
   "metadata": {
    "collapsed": false,
    "ExecuteTime": {
     "end_time": "2024-10-01T02:47:18.287052Z",
     "start_time": "2024-10-01T02:47:17.881153Z"
    }
   },
   "id": "99176a0f27f3ee88"
  },
  {
   "cell_type": "code",
   "execution_count": 4,
   "outputs": [
    {
     "name": "stdout",
     "output_type": "stream",
     "text": [
      "\n",
      "\n",
      "\u001B[1m> Entering new GraphCypherQAChain chain...\u001B[0m\n",
      "Generated Cypher:\n",
      "\u001B[32;1m\u001B[1;3m\u001B[0m\n",
      "Full Context:\n",
      "\u001B[32;1m\u001B[1;3m[]\u001B[0m\n",
      "\n",
      "\u001B[1m> Finished chain.\u001B[0m\n",
      "{'query': 'What awards Marie Curie had?', 'result': \"I'm afraid I don't have any information about what awards Marie Curie had. The provided information is empty, so I don't have enough details to give a helpful answer.\"}\n"
     ]
    }
   ],
   "source": [
    "response = query_graph(graph, \"What awards Marie Curie had?\")\n",
    "print(response)"
   ],
   "metadata": {
    "collapsed": false,
    "ExecuteTime": {
     "end_time": "2024-10-01T02:47:19.648836Z",
     "start_time": "2024-10-01T02:47:18.704713Z"
    }
   },
   "id": "b57b158d3a091e8a"
  },
  {
   "cell_type": "code",
   "execution_count": 5,
   "outputs": [],
   "source": [
    "text = \"\"\"  \n",
    "Marie Curie, born in 1867, was a Polish and naturalised-French physicist and chemist who conducted pioneering research on radioactivity.  \n",
    "She was the first woman to win a Nobel Prize, the first person to win a Nobel Prize twice, and the only person to win a Nobel Prize in two scientific fields.  \n",
    "Her husband, Pierre Curie, was a co-winner of her first Nobel Prize, making them the first-ever married couple to win the Nobel Prize and launching the Curie family legacy of five Nobel Prizes.  \n",
    "She was, in 1906, the first woman to become a professor at the University of Paris. She also won presidential awards.\n",
    "\"\"\""
   ],
   "metadata": {
    "collapsed": false,
    "ExecuteTime": {
     "end_time": "2024-10-01T02:47:30.104156Z",
     "start_time": "2024-10-01T02:47:30.074407Z"
    }
   },
   "id": "31ebb9cc4bcfed79"
  },
  {
   "cell_type": "code",
   "execution_count": 6,
   "outputs": [],
   "source": [
    "def add_knowledge_to_graph( text):\n",
    "    documents = [Document(page_content=text)]\n",
    "    graph_documents = llm_transformer.convert_to_graph_documents(documents)\n",
    "    graph.add_graph_documents(graph_documents)\n",
    "\n",
    "    graph.refresh_schema()  # Refreshes the Neo4j graph schema information.\n",
    "    \n",
    "add_knowledge_to_graph(text)"
   ],
   "metadata": {
    "collapsed": false,
    "ExecuteTime": {
     "end_time": "2024-10-01T02:47:35.906964Z",
     "start_time": "2024-10-01T02:47:32.560235Z"
    }
   },
   "id": "cd9eb11f56c011c5"
  },
  {
   "cell_type": "code",
   "execution_count": 7,
   "outputs": [
    {
     "name": "stdout",
     "output_type": "stream",
     "text": [
      "\n",
      "\n",
      "\u001B[1m> Entering new GraphCypherQAChain chain...\u001B[0m\n",
      "Generated Cypher:\n",
      "\u001B[32;1m\u001B[1;3mMATCH (p:Person {id: 'Marie Curie'})-[:WON_AWARD]->(a:Award)\n",
      "RETURN a.id\u001B[0m\n",
      "Full Context:\n",
      "\u001B[32;1m\u001B[1;3m[{'a.id': 'Nobel Prize'}, {'a.id': 'Presidential Awards'}]\u001B[0m\n",
      "\n",
      "\u001B[1m> Finished chain.\u001B[0m\n",
      "{'query': 'What awards Marie Curie had?', 'result': 'According to the provided information, Marie Curie had the following awards:\\n- Nobel Prize\\n- Presidential Awards'}\n"
     ]
    }
   ],
   "source": [
    "response = query_graph(graph, \"What awards Marie Curie had?\")\n",
    "print(response)"
   ],
   "metadata": {
    "collapsed": false,
    "ExecuteTime": {
     "end_time": "2024-10-01T02:47:39.309322Z",
     "start_time": "2024-10-01T02:47:38.492755Z"
    }
   },
   "id": "8a2d56a7313f79a4"
  },
  {
   "cell_type": "code",
   "execution_count": null,
   "outputs": [],
   "source": [],
   "metadata": {
    "collapsed": false
   },
   "id": "9b50eae71c1434d9"
  }
 ],
 "metadata": {
  "kernelspec": {
   "display_name": "Python 3",
   "language": "python",
   "name": "python3"
  },
  "language_info": {
   "codemirror_mode": {
    "name": "ipython",
    "version": 2
   },
   "file_extension": ".py",
   "mimetype": "text/x-python",
   "name": "python",
   "nbconvert_exporter": "python",
   "pygments_lexer": "ipython2",
   "version": "2.7.6"
  }
 },
 "nbformat": 4,
 "nbformat_minor": 5
}
