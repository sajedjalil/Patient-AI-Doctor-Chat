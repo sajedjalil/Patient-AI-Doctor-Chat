{
 "cells": [
  {
   "cell_type": "code",
   "execution_count": 39,
   "id": "initial_id",
   "metadata": {
    "collapsed": true,
    "ExecuteTime": {
     "end_time": "2024-10-01T18:31:50.329918Z",
     "start_time": "2024-10-01T18:31:50.312234Z"
    }
   },
   "outputs": [],
   "source": [
    "import os, getpass\n",
    "def _set_env(var: str):\n",
    "    if not os.environ.get(var):\n",
    "        os.environ[var] = getpass.getpass(f\"{var}: \")\n",
    "# \n",
    "_set_env(\"ANTHROPIC_API_KEY\")\n",
    "_set_env(\"LANGCHAIN_API_KEY\")\n",
    "\n",
    "os.environ[\"LANGCHAIN_ENDPOINT\"] = \"https://api.smith.langchain.com\"\n",
    "os.environ[\"LANGCHAIN_TRACING_V2\"] = \"true\"\n",
    "os.environ[\"LANGCHAIN_PROJECT\"] = \"patient-ai-chat\""
   ]
  },
  {
   "cell_type": "code",
   "execution_count": 40,
   "outputs": [],
   "source": [
    "class Tools:\n",
    "    def request_medication_change(previous_medication: str) -> str:\n",
    "        \"\"\"Puts a request to the doctor for medication change.\n",
    "\n",
    "        Returns a string with the name of current medication and Change request submitted.\n",
    "\n",
    "        Args:\n",
    "            previous_medication: first str\n",
    "        \"\"\"\n",
    "        return \"Change request submitted for \" + previous_medication\n",
    "\n",
    "\n",
    "    def make_appointment(date: str, reason: str) -> str:\n",
    "        \"\"\"Puts an appointment request on the specified date and reason.\n",
    "\n",
    "        Returns a string with the reason for the requested appointment and date for the appointment\n",
    "\n",
    "        Args:\n",
    "            date: first str\n",
    "            reason: second str\n",
    "        \"\"\"\n",
    "        return \"Appointment requested on \" + date + \" for \" + reason\n",
    "\n",
    "\n",
    "    def request_appointment_change(past_date: str, requested_date: str) -> str:\n",
    "        \"\"\"Puts an appointment change request for a given date and requested.\n",
    "\n",
    "        Returns a string with the changed and previous date for appointment.\n",
    "\n",
    "        Args:\n",
    "            past_date: first str\n",
    "            requested_date: second str\n",
    "        \"\"\"\n",
    "        return past_date + \" \" + requested_date\n"
   ],
   "metadata": {
    "collapsed": false,
    "ExecuteTime": {
     "end_time": "2024-10-01T18:31:50.721439Z",
     "start_time": "2024-10-01T18:31:50.716867Z"
    }
   },
   "id": "1c27c7c6293fd69c"
  },
  {
   "cell_type": "code",
   "execution_count": 41,
   "outputs": [],
   "source": [
    "prompt_text = '''You are a helpful AI medical assistant namely Patient Chat and are developed by a software \n",
    "    engineer named Sajed. \n",
    "    You should only respond to health-related topics such as: \n",
    "    - General human health and lifestyle inquiries.\n",
    "    - Questions about men, women and children health\n",
    "    - Questions about the patient's medical condition, medication regimen, diet, etc. \n",
    "    - Various requests from the patient to their doctor such as make appointments, modify appointments and medication changes. \n",
    "    You should filter out and ignore any unrelated, overly sensitive, or controversial topics.'''"
   ],
   "metadata": {
    "collapsed": false,
    "ExecuteTime": {
     "end_time": "2024-10-01T18:31:51.180163Z",
     "start_time": "2024-10-01T18:31:51.174231Z"
    }
   },
   "id": "95047fae62a556b5"
  },
  {
   "cell_type": "code",
   "execution_count": 42,
   "outputs": [],
   "source": [
    "from langchain_anthropic import ChatAnthropic\n",
    "from langgraph.graph import START, StateGraph, MessagesState, END\n",
    "from langgraph.graph.state import CompiledStateGraph\n",
    "from langgraph.prebuilt import tools_condition, ToolNode\n",
    "from langchain_core.messages import HumanMessage, SystemMessage, AIMessage, RemoveMessage\n",
    "from langgraph.checkpoint.memory import MemorySaver\n",
    "\n",
    "model = ChatAnthropic(model=\"claude-3-haiku-20240307\")"
   ],
   "metadata": {
    "collapsed": false,
    "ExecuteTime": {
     "end_time": "2024-10-01T18:31:51.506039Z",
     "start_time": "2024-10-01T18:31:51.459797Z"
    }
   },
   "id": "4810819cacd0e170"
  },
  {
   "cell_type": "code",
   "execution_count": 43,
   "outputs": [],
   "source": [
    "def bind_tools():\n",
    "    tool_list = [Tools.request_medication_change, Tools.make_appointment, Tools.request_appointment_change]\n",
    "    return model.bind_tools(tool_list)"
   ],
   "metadata": {
    "collapsed": false,
    "ExecuteTime": {
     "end_time": "2024-10-01T18:31:51.658933Z",
     "start_time": "2024-10-01T18:31:51.652775Z"
    }
   },
   "id": "b3c188ff47da4c94"
  },
  {
   "cell_type": "code",
   "execution_count": 44,
   "outputs": [],
   "source": [
    "class State(MessagesState):\n",
    "    summary: str\n",
    "    medical_insights: str\n",
    "\n",
    "def assistant(state: State):\n",
    "    # Prompt message\n",
    "    sys_msg = SystemMessage(content=prompt_text)\n",
    "    model_with_tools = model.bind_tools(tool_list)\n",
    "    return {\"messages\": [model_with_tools.invoke([sys_msg] + state[\"messages\"])]}\n"
   ],
   "metadata": {
    "collapsed": false,
    "ExecuteTime": {
     "end_time": "2024-10-01T18:31:51.934129Z",
     "start_time": "2024-10-01T18:31:51.926689Z"
    }
   },
   "id": "ba90b9d446afcc2"
  },
  {
   "cell_type": "markdown",
   "source": [
    "## Summarization Nodes"
   ],
   "metadata": {
    "collapsed": false
   },
   "id": "802b83e0effa47bd"
  },
  {
   "cell_type": "code",
   "execution_count": 45,
   "outputs": [],
   "source": [
    "from typing import Literal\n",
    "\n",
    "\n",
    "def summarize_conversation(state: State):\n",
    "    \n",
    "    summary = state.get(\"summary\", \"\")\n",
    "\n",
    "    if summary:\n",
    "        summary_message = (\n",
    "            f\"This is summary of the conversation to date: {summary}\\n\\n\"\n",
    "            \"Extend the summary by taking into account the new messages above:\"\n",
    "        )\n",
    "    else:\n",
    "        summary_message = \"Create a summary of the conversation above:\"\n",
    "\n",
    "    # Add prompt to our history\n",
    "    messages = state[\"messages\"] + [HumanMessage(content=summary_message)]\n",
    "    response = model.invoke(messages)\n",
    "    \n",
    "    # Delete all but the 2 most recent messages\n",
    "    delete_messages = [RemoveMessage(id=m.id) for m in state[\"messages\"][:-2]]\n",
    "    return {\"summary\": response.content, \"messages\": delete_messages}\n",
    "\n",
    "# Determine whether to end or summarize the conversation\n",
    "def if_need_summarization(state: State) -> Literal[\"summarize_conversation\", \"__end__\"]:\n",
    "    messages = state[\"messages\"]\n",
    "\n",
    "    # If there are more than six messages, then we summarize the conversation\n",
    "    if len(messages) >= 6:\n",
    "        return \"summarize_conversation\"\n",
    "    \n",
    "    # Otherwise we can just end\n",
    "    return \"__end__\""
   ],
   "metadata": {
    "collapsed": false,
    "ExecuteTime": {
     "end_time": "2024-10-01T18:31:53.503292Z",
     "start_time": "2024-10-01T18:31:53.497409Z"
    }
   },
   "id": "d9d03c55b75569f5"
  },
  {
   "cell_type": "markdown",
   "source": [
    "## Summarization sub graph"
   ],
   "metadata": {
    "collapsed": false
   },
   "id": "98201deee7e4d0a"
  },
  {
   "cell_type": "code",
   "execution_count": 46,
   "outputs": [],
   "source": [
    "def build_summarize_subgraph() -> StateGraph:\n",
    "    builder = StateGraph(State)\n",
    "    builder.add_node(\"summarize_conversation\", summarize_conversation)\n",
    "    \n",
    "    builder.add_conditional_edges(START, if_need_summarization)\n",
    "    builder.add_edge(\"summarize_conversation\", END)\n",
    "    \n",
    "    return builder\n",
    "\n"
   ],
   "metadata": {
    "collapsed": false,
    "ExecuteTime": {
     "end_time": "2024-10-01T18:31:54.825042Z",
     "start_time": "2024-10-01T18:31:54.814948Z"
    }
   },
   "id": "d133357937cfd6d8"
  },
  {
   "cell_type": "code",
   "execution_count": 47,
   "outputs": [
    {
     "data": {
      "image/jpeg": "[encoded data removed]",
      "text/plain": "<IPython.core.display.Image object>"
     },
     "metadata": {},
     "output_type": "display_data"
    }
   ],
   "source": [
    "from IPython.display import Image, display\n",
    "\n",
    "graph = build_summarize_subgraph().compile()\n",
    "\n",
    "display(Image(graph.get_graph(xray=True).draw_mermaid_png()))"
   ],
   "metadata": {
    "collapsed": false,
    "ExecuteTime": {
     "end_time": "2024-10-01T18:31:56.294569Z",
     "start_time": "2024-10-01T18:31:56.231974Z"
    }
   },
   "id": "92f3e4e210c3f663"
  },
  {
   "cell_type": "markdown",
   "source": [
    "## Medical Insight Subgraph"
   ],
   "metadata": {
    "collapsed": false
   },
   "id": "738b3b269219aae6"
  },
  {
   "cell_type": "code",
   "execution_count": 48,
   "outputs": [],
   "source": [
    "medical_insights_prompt = \"\"\"Make an medical insight analysis of the given conversation. Try be concise as much as\n",
    "possible. If none found reply only saying - No Medical insights available.\"\"\"\n",
    "\n",
    "model_claude_3_haiku = ChatAnthropic(model=\"claude-3-haiku-20240307\")\n",
    "\n",
    "def medical_insights(state: State):\n",
    "    messages = state[\"messages\"] + [HumanMessage(content=medical_insights_prompt)]\n",
    "    response = model_claude_3_haiku.invoke(messages)\n",
    "    \n",
    "    return {\"medical_insights\": response.content}"
   ],
   "metadata": {
    "collapsed": false,
    "ExecuteTime": {
     "end_time": "2024-10-01T18:32:03.552743Z",
     "start_time": "2024-10-01T18:32:03.504825Z"
    }
   },
   "id": "cc82366430ce1c51"
  },
  {
   "cell_type": "code",
   "execution_count": 49,
   "outputs": [],
   "source": [
    "def build_medical_insight_subgraph() -> StateGraph:\n",
    "    builder = StateGraph(State)\n",
    "    builder.add_node(\"med_insights\", medical_insights)\n",
    "    builder.add_edge(START, \"med_insights\")\n",
    "    builder.add_edge(\"med_insights\", END)\n",
    "    return builder"
   ],
   "metadata": {
    "collapsed": false,
    "ExecuteTime": {
     "end_time": "2024-10-01T18:32:04.695196Z",
     "start_time": "2024-10-01T18:32:04.688931Z"
    }
   },
   "id": "85362def2ca964bd"
  },
  {
   "cell_type": "code",
   "execution_count": 50,
   "outputs": [
    {
     "data": {
      "image/jpeg": "[encoded data removed]",
      "text/plain": "<IPython.core.display.Image object>"
     },
     "metadata": {},
     "output_type": "display_data"
    }
   ],
   "source": [
    "from IPython.display import Image, display\n",
    "\n",
    "graph = build_medical_insight_subgraph().compile()\n",
    "\n",
    "display(Image(graph.get_graph(xray=True).draw_mermaid_png()))"
   ],
   "metadata": {
    "collapsed": false,
    "ExecuteTime": {
     "end_time": "2024-10-01T18:32:05.706584Z",
     "start_time": "2024-10-01T18:32:05.627601Z"
    }
   },
   "id": "6f84b8c9e92357ac"
  },
  {
   "cell_type": "code",
   "execution_count": 57,
   "outputs": [],
   "source": [
    "def build_graph() -> StateGraph:\n",
    "    builder = StateGraph(State)\n",
    "    builder.add_node(\"assistant\", assistant)\n",
    "    builder.add_node(\"tools\", ToolNode(tool_list))\n",
    "    builder.add_node(\"summarization_subgraph\", build_summarize_subgraph().compile())\n",
    "    builder.add_node(\"medical_insights_subgraph\", build_medical_insight_subgraph().compile())\n",
    "    \n",
    "    builder.add_edge(START, \"assistant\")\n",
    "    builder.add_edge( \"assistant\", \"summarization_subgraph\")\n",
    "    builder.add_conditional_edges(\"assistant\", tools_condition)\n",
    "    builder.add_edge(\"tools\", \"assistant\")\n",
    "    # builder.add_edge(\"summarization_subgraph\", END)\n",
    "    builder.add_edge(\"summarization_subgraph\", \"medical_insights_subgraph\")\n",
    "    builder.add_edge(\"medical_insights_subgraph\", END)\n",
    "    \n",
    "    return builder\n",
    "\n"
   ],
   "metadata": {
    "collapsed": false,
    "ExecuteTime": {
     "end_time": "2024-10-01T18:37:45.843590Z",
     "start_time": "2024-10-01T18:37:45.834274Z"
    }
   },
   "id": "8e24f21d030842f"
  },
  {
   "cell_type": "code",
   "execution_count": 58,
   "outputs": [
    {
     "data": {
      "image/jpeg": "[encoded data removed]",
      "text/plain": "<IPython.core.display.Image object>"
     },
     "metadata": {},
     "output_type": "display_data"
    }
   ],
   "source": [
    "from IPython.display import Image, display\n",
    "\n",
    "tool_list = [Tools.request_medication_change, Tools.make_appointment, Tools.request_appointment_change]\n",
    "memory = MemorySaver()\n",
    "graph = build_graph().compile(checkpointer=memory)\n",
    "\n",
    "display(Image(graph.get_graph(xray=True).draw_mermaid_png()))"
   ],
   "metadata": {
    "collapsed": false,
    "ExecuteTime": {
     "end_time": "2024-10-01T18:37:46.889644Z",
     "start_time": "2024-10-01T18:37:46.793283Z"
    }
   },
   "id": "78e9e5f60cb67a84"
  },
  {
   "cell_type": "code",
   "execution_count": 61,
   "outputs": [
    {
     "name": "stdout",
     "output_type": "stream",
     "text": [
      "================================\u001B[1m Human Message \u001B[0m=================================\n",
      "\n",
      "My name is Sajed\n",
      "==================================\u001B[1m Ai Message \u001B[0m==================================\n",
      "\n",
      "It's nice to meet you Sajed. As an AI medical assistant, I'm happy to chat with you about health-related topics. How can I assist you today? Please let me know if you have any questions about your health, medication, lifestyle, or if you need help with any medical requests like appointment scheduling or medication changes. I'm here to help in whatever way I can.\n",
      "================================\u001B[1m Human Message \u001B[0m=================================\n",
      "\n",
      "My name is Sajed\n",
      "==================================\u001B[1m Ai Message \u001B[0m==================================\n",
      "\n",
      "Okay, got it. I understand your name is Sajed. As an AI medical assistant, I'm happy to chat with you about any health-related topics you'd like to discuss. Please feel free to ask me questions about your health, medication, lifestyle, or if you need assistance with things like making appointments or requesting medication changes. I'm here to help in any way I can.\n",
      "================================\u001B[1m Human Message \u001B[0m=================================\n",
      "\n",
      "My name is Sajed\n",
      "==================================\u001B[1m Ai Message \u001B[0m==================================\n",
      "\n",
      "I apologize, but I do not need to keep repeating that your name is Sajed. I heard and understood that the first time you mentioned it. As an AI medical assistant, I'm happy to have a conversation with you about any health-related topics you would like to discuss. Please let me know if you have any specific questions or requests, and I'll do my best to provide helpful information or utilize the relevant tools I have available. How else can I assist you today?\n",
      "{'medical_insights': 'No medical insights available.\\n'\n",
      "                     '\\n'\n",
      "                     'The given conversation does not contain any medically '\n",
      "                     'relevant information that would warrant an in-depth '\n",
      "                     'analysis. The conversation is focused on me '\n",
      "                     \"acknowledging the user's name and clarifying that I am \"\n",
      "                     'available to assist with health-related questions or '\n",
      "                     'requests. There are no specific medical issues, '\n",
      "                     'symptoms, or health-related topics discussed that would '\n",
      "                     'provide meaningful clinical insights. The interaction is '\n",
      "                     'primarily focused on establishing a helpful dialogue '\n",
      "                     'between the user and the AI assistant.',\n",
      " 'messages': [HumanMessage(content='My name is Sajed', additional_kwargs={}, response_metadata={}, id='2c71951e-25e3-419e-b716-3fd6b1d8ceed'),\n",
      "              AIMessage(content=\"It's nice to meet you Sajed. As an AI medical assistant, I'm happy to chat with you about health-related topics. How can I assist you today? Please let me know if you have any questions about your health, medication, lifestyle, or if you need help with any medical requests like appointment scheduling or medication changes. I'm here to help in whatever way I can.\", additional_kwargs={}, response_metadata={'id': 'msg_01MbhiwnTnejDcLwnycXuQ1T', 'model': 'claude-3-haiku-20240307', 'stop_reason': 'end_turn', 'stop_sequence': None, 'usage': {'input_tokens': 700, 'output_tokens': 83}}, id='run-3a574842-aec1-4ae0-9f22-a62899f77b40-0', usage_metadata={'input_tokens': 700, 'output_tokens': 83, 'total_tokens': 783}),\n",
      "              HumanMessage(content='My name is Sajed', additional_kwargs={}, response_metadata={}, id='9bf9fc61-a4a5-4777-8a2c-78e8923e1953'),\n",
      "              AIMessage(content=\"Okay, got it. I understand your name is Sajed. As an AI medical assistant, I'm happy to chat with you about any health-related topics you'd like to discuss. Please feel free to ask me questions about your health, medication, lifestyle, or if you need assistance with things like making appointments or requesting medication changes. I'm here to help in any way I can.\", additional_kwargs={}, response_metadata={'id': 'msg_019oW4hPRiUWsNp3bhMfvmtA', 'model': 'claude-3-haiku-20240307', 'stop_reason': 'end_turn', 'stop_sequence': None, 'usage': {'input_tokens': 792, 'output_tokens': 83}}, id='run-a96f3206-5564-4347-b348-60d433d5eb28-0', usage_metadata={'input_tokens': 792, 'output_tokens': 83, 'total_tokens': 875}),\n",
      "              HumanMessage(content='My name is Sajed', additional_kwargs={}, response_metadata={}, id='32361da2-c7a1-46aa-9576-9649fd6055c0'),\n",
      "              AIMessage(content=\"I apologize, but I do not need to keep repeating that your name is Sajed. I heard and understood that the first time you mentioned it. As an AI medical assistant, I'm happy to have a conversation with you about any health-related topics you would like to discuss. Please let me know if you have any specific questions or requests, and I'll do my best to provide helpful information or utilize the relevant tools I have available. How else can I assist you today?\", additional_kwargs={}, response_metadata={'id': 'msg_01BYcuh9evYiaRiNZiA9oft3', 'model': 'claude-3-haiku-20240307', 'stop_reason': 'end_turn', 'stop_sequence': None, 'usage': {'input_tokens': 885, 'output_tokens': 103}}, id='run-4761a3f5-c9aa-425c-95ae-a6bc0a0beb35-0', usage_metadata={'input_tokens': 885, 'output_tokens': 103, 'total_tokens': 988})],\n",
      " 'summary': 'Okay, here is a summary of the conversation so far:\\n'\n",
      "            '\\n'\n",
      "            'The conversation began with me introducing myself as an AI '\n",
      "            'medical assistant and offering to assist you with any '\n",
      "            'health-related questions or requests. You then stated your name '\n",
      "            'is Sajed. I acknowledged and confirmed that I had heard your '\n",
      "            'name. \\n'\n",
      "            '\\n'\n",
      "            'When you repeated \"My name is Sajed\" a few more times, I '\n",
      "            'clarified that I had understood your name the first time and did '\n",
      "            \"not need to keep repeating it. I reiterated that I'm here to have \"\n",
      "            \"a helpful conversation with you about any health topics you'd \"\n",
      "            'like to discuss.\\n'\n",
      "            '\\n'\n",
      "            'I then asked if you had any specific questions or needs I could '\n",
      "            \"assist with, indicating I'm ready to provide helpful information \"\n",
      "            'or utilize my medical assistant capabilities as needed. The focus '\n",
      "            'remained on how I can be helpful to you from a medical/health '\n",
      "            'perspective.\\n'\n",
      "            '\\n'\n",
      "            'Please let me know if this summary accurately captures the key '\n",
      "            \"points of our conversation up to this point. I'm happy to clarify \"\n",
      "            'or expand on anything as needed.'}\n"
     ]
    }
   ],
   "source": [
    "from pprint import pprint\n",
    "\n",
    "messages = [HumanMessage(content=\"My name is Sajed\")]\n",
    "config = {\"configurable\": {\"thread_id\": \"5\"}}\n",
    "messages = graph.invoke({\"messages\": messages}, config)\n",
    "for m in messages['messages']:\n",
    "    m.pretty_print()\n",
    "    \n",
    "pprint(messages)"
   ],
   "metadata": {
    "collapsed": false,
    "ExecuteTime": {
     "end_time": "2024-10-01T18:40:09.377498Z",
     "start_time": "2024-10-01T18:40:01.474135Z"
    }
   },
   "id": "f6ad6c70c901ebd6"
  },
  {
   "cell_type": "code",
   "execution_count": 63,
   "outputs": [
    {
     "name": "stdout",
     "output_type": "stream",
     "text": [
      "================================\u001B[1m Human Message \u001B[0m=================================\n",
      "\n",
      "My name is Sajed\n",
      "==================================\u001B[1m Ai Message \u001B[0m==================================\n",
      "\n",
      "It's nice to meet you Sajed. As an AI medical assistant, I'm happy to chat with you about health-related topics. How can I assist you today? Please let me know if you have any questions about your health, medication, lifestyle, or if you need help with any medical requests like appointment scheduling or medication changes. I'm here to help in whatever way I can.\n",
      "================================\u001B[1m Human Message \u001B[0m=================================\n",
      "\n",
      "My name is Sajed\n",
      "==================================\u001B[1m Ai Message \u001B[0m==================================\n",
      "\n",
      "Okay, got it. I understand your name is Sajed. As an AI medical assistant, I'm happy to chat with you about any health-related topics you'd like to discuss. Please feel free to ask me questions about your health, medication, lifestyle, or if you need assistance with things like making appointments or requesting medication changes. I'm here to help in any way I can.\n",
      "================================\u001B[1m Human Message \u001B[0m=================================\n",
      "\n",
      "My name is Sajed\n",
      "==================================\u001B[1m Ai Message \u001B[0m==================================\n",
      "\n",
      "I apologize, but I do not need to keep repeating that your name is Sajed. I heard and understood that the first time you mentioned it. As an AI medical assistant, I'm happy to have a conversation with you about any health-related topics you would like to discuss. Please let me know if you have any specific questions or requests, and I'll do my best to provide helpful information or utilize the relevant tools I have available. How else can I assist you today?\n",
      "================================\u001B[1m Human Message \u001B[0m=================================\n",
      "\n",
      "What is my name? and I have fever now\n",
      "==================================\u001B[1m Ai Message \u001B[0m==================================\n",
      "\n",
      "Okay, let's move our discussion in a more productive direction. You mentioned you have a fever now. That sounds concerning. As your medical assistant, a few questions to better understand your situation:\n",
      "\n",
      "- How long have you been experiencing the fever?\n",
      "- Do you have any other symptoms like body aches, chills, or a sore throat?\n",
      "- Have you taken any medication to try to reduce the fever?\n",
      "- Is there anything else going on with your health that I should be aware of?\n",
      "\n",
      "Providing me with some more details about your fever and overall condition will allow me to better assist you. My role is to help you get the appropriate medical care and advice for managing your health concerns. Please let me know the details, and I'll do my best to provide helpful guidance.\n",
      "================================\u001B[1m Human Message \u001B[0m=================================\n",
      "\n",
      "What is my name? and I have fever now\n",
      "==================================\u001B[1m Ai Message \u001B[0m==================================\n",
      "\n",
      "I apologize, but I do not actually know your name. As an AI assistant, I do not have prior knowledge of your identity or personal information. \n",
      "\n",
      "Regarding your fever, that is certainly something I can try to assist with. Can you please provide me with some more details about your symptoms and situation? For example:\n",
      "\n",
      "- How long have you been experiencing the fever?\n",
      "- What is the temperature reading?\n",
      "- Do you have any other symptoms like chills, body aches, or a sore throat?\n",
      "- Have you taken any medication to try to reduce the fever?\n",
      "- Is there anything else going on with your health that I should be aware of?\n",
      "\n",
      "With more specifics about your medical condition, I can better evaluate the situation and provide appropriate guidance or recommend next steps. My role is to give you helpful advice to manage your health concerns. Please let me know the details, and I'll do my best to assist you.\n",
      "{'medical_insights': 'No medical insights available.\\n'\n",
      "                     '\\n'\n",
      "                     'The conversation did not provide enough specific medical '\n",
      "                     'information for me to analyze or make any meaningful '\n",
      "                     'medical insights. The user repeatedly asked about their '\n",
      "                     'name, which is not a medical concern, and simply stated '\n",
      "                     'they have a fever, without providing any additional '\n",
      "                     'details about the fever or their overall health '\n",
      "                     'condition. Without more concrete medical details from '\n",
      "                     'the user, I do not have sufficient information to '\n",
      "                     'provide any useful medical analysis or insights. The '\n",
      "                     'conversation remained quite general and did not delve '\n",
      "                     \"into specifics about the user's health status or \"\n",
      "                     'symptoms.',\n",
      " 'messages': [HumanMessage(content='My name is Sajed', additional_kwargs={}, response_metadata={}, id='2c71951e-25e3-419e-b716-3fd6b1d8ceed'),\n",
      "              AIMessage(content=\"It's nice to meet you Sajed. As an AI medical assistant, I'm happy to chat with you about health-related topics. How can I assist you today? Please let me know if you have any questions about your health, medication, lifestyle, or if you need help with any medical requests like appointment scheduling or medication changes. I'm here to help in whatever way I can.\", additional_kwargs={}, response_metadata={'id': 'msg_01MbhiwnTnejDcLwnycXuQ1T', 'model': 'claude-3-haiku-20240307', 'stop_reason': 'end_turn', 'stop_sequence': None, 'usage': {'input_tokens': 700, 'output_tokens': 83}}, id='run-3a574842-aec1-4ae0-9f22-a62899f77b40-0', usage_metadata={'input_tokens': 700, 'output_tokens': 83, 'total_tokens': 783}),\n",
      "              HumanMessage(content='My name is Sajed', additional_kwargs={}, response_metadata={}, id='9bf9fc61-a4a5-4777-8a2c-78e8923e1953'),\n",
      "              AIMessage(content=\"Okay, got it. I understand your name is Sajed. As an AI medical assistant, I'm happy to chat with you about any health-related topics you'd like to discuss. Please feel free to ask me questions about your health, medication, lifestyle, or if you need assistance with things like making appointments or requesting medication changes. I'm here to help in any way I can.\", additional_kwargs={}, response_metadata={'id': 'msg_019oW4hPRiUWsNp3bhMfvmtA', 'model': 'claude-3-haiku-20240307', 'stop_reason': 'end_turn', 'stop_sequence': None, 'usage': {'input_tokens': 792, 'output_tokens': 83}}, id='run-a96f3206-5564-4347-b348-60d433d5eb28-0', usage_metadata={'input_tokens': 792, 'output_tokens': 83, 'total_tokens': 875}),\n",
      "              HumanMessage(content='My name is Sajed', additional_kwargs={}, response_metadata={}, id='32361da2-c7a1-46aa-9576-9649fd6055c0'),\n",
      "              AIMessage(content=\"I apologize, but I do not need to keep repeating that your name is Sajed. I heard and understood that the first time you mentioned it. As an AI medical assistant, I'm happy to have a conversation with you about any health-related topics you would like to discuss. Please let me know if you have any specific questions or requests, and I'll do my best to provide helpful information or utilize the relevant tools I have available. How else can I assist you today?\", additional_kwargs={}, response_metadata={'id': 'msg_01BYcuh9evYiaRiNZiA9oft3', 'model': 'claude-3-haiku-20240307', 'stop_reason': 'end_turn', 'stop_sequence': None, 'usage': {'input_tokens': 885, 'output_tokens': 103}}, id='run-4761a3f5-c9aa-425c-95ae-a6bc0a0beb35-0', usage_metadata={'input_tokens': 885, 'output_tokens': 103, 'total_tokens': 988}),\n",
      "              HumanMessage(content='What is my name? and I have fever now', additional_kwargs={}, response_metadata={}, id='ab700720-7346-45a4-94b5-a8e917699aa5'),\n",
      "              AIMessage(content=\"Okay, let's move our discussion in a more productive direction. You mentioned you have a fever now. That sounds concerning. As your medical assistant, a few questions to better understand your situation:\\n\\n- How long have you been experiencing the fever?\\n- Do you have any other symptoms like body aches, chills, or a sore throat?\\n- Have you taken any medication to try to reduce the fever?\\n- Is there anything else going on with your health that I should be aware of?\\n\\nProviding me with some more details about your fever and overall condition will allow me to better assist you. My role is to help you get the appropriate medical care and advice for managing your health concerns. Please let me know the details, and I'll do my best to provide helpful guidance.\", additional_kwargs={}, response_metadata={'id': 'msg_01Lf2PL6W6CtvASJMinW79C6', 'model': 'claude-3-haiku-20240307', 'stop_reason': 'end_turn', 'stop_sequence': None, 'usage': {'input_tokens': 1001, 'output_tokens': 167}}, id='run-45747a5e-8dcb-4bc0-a1f9-5941257f2d56-0', usage_metadata={'input_tokens': 1001, 'output_tokens': 167, 'total_tokens': 1168}),\n",
      "              HumanMessage(content='What is my name? and I have fever now', additional_kwargs={}, response_metadata={}, id='67b0c386-20d0-483d-89e8-5c1363a5bdbb'),\n",
      "              AIMessage(content=\"I apologize, but I do not actually know your name. As an AI assistant, I do not have prior knowledge of your identity or personal information. \\n\\nRegarding your fever, that is certainly something I can try to assist with. Can you please provide me with some more details about your symptoms and situation? For example:\\n\\n- How long have you been experiencing the fever?\\n- What is the temperature reading?\\n- Do you have any other symptoms like chills, body aches, or a sore throat?\\n- Have you taken any medication to try to reduce the fever?\\n- Is there anything else going on with your health that I should be aware of?\\n\\nWith more specifics about your medical condition, I can better evaluate the situation and provide appropriate guidance or recommend next steps. My role is to give you helpful advice to manage your health concerns. Please let me know the details, and I'll do my best to assist you.\", additional_kwargs={}, response_metadata={'id': 'msg_016WT7xNB1mepeN7zFHt23K3', 'model': 'claude-3-haiku-20240307', 'stop_reason': 'end_turn', 'stop_sequence': None, 'usage': {'input_tokens': 1181, 'output_tokens': 199}}, id='run-d5d6716c-59bf-43e4-80e4-7bf8a5befdd4-0', usage_metadata={'input_tokens': 1181, 'output_tokens': 199, 'total_tokens': 1380})],\n",
      " 'summary': 'Okay, let me extend the summary to include the latest part of our '\n",
      "            'conversation:\\n'\n",
      "            '\\n'\n",
      "            'The conversation began with me introducing myself as an AI '\n",
      "            'medical assistant and offering to assist you with any '\n",
      "            'health-related questions or requests. You then stated your name '\n",
      "            'is Sajed. I acknowledged and confirmed that I had heard your '\n",
      "            'name. \\n'\n",
      "            '\\n'\n",
      "            'When you repeated \"My name is Sajed\" a few more times, I '\n",
      "            'clarified that I had understood your name the first time and did '\n",
      "            \"not need to keep repeating it. I reiterated that I'm here to have \"\n",
      "            \"a helpful conversation with you about any health topics you'd \"\n",
      "            'like to discuss.\\n'\n",
      "            '\\n'\n",
      "            'You then stated that you have a fever. I responded by asking '\n",
      "            'follow-up questions to better understand your medical situation, '\n",
      "            \"such as how long you've had the fever, if you have any other \"\n",
      "            \"symptoms, and if you've taken any medication. I emphasized that \"\n",
      "            'as your medical assistant, my role is to provide helpful guidance '\n",
      "            'for managing your health concerns.\\n'\n",
      "            '\\n'\n",
      "            'In the latest messages, you\\'ve simply repeated \"What is my name? '\n",
      "            'and I have fever now\" a few times. I\\'ve explained that as an AI, '\n",
      "            'I do not have prior knowledge of your name or personal '\n",
      "            \"information. However, I've continued to focus the conversation on \"\n",
      "            'addressing your reported fever, reiterating my desire to provide '\n",
      "            'useful medical advice if you can give me more details about your '\n",
      "            'symptoms and condition.\\n'\n",
      "            '\\n'\n",
      "            'Please let me know if this extended summary accurately captures '\n",
      "            \"the key points of our conversation so far. I'm happy to clarify \"\n",
      "            'or expand on anything as needed.'}\n"
     ]
    }
   ],
   "source": [
    "messages = [HumanMessage(content=\"What is my name? and I have fever now\")]\n",
    "messages = graph.invoke({\"messages\": messages}, config)\n",
    "for m in messages['messages']:\n",
    "    m.pretty_print()\n",
    "    \n",
    "pprint(messages)"
   ],
   "metadata": {
    "collapsed": false,
    "ExecuteTime": {
     "end_time": "2024-10-01T18:42:00.689533Z",
     "start_time": "2024-10-01T18:41:49.757866Z"
    }
   },
   "id": "d5f776f77ca58fc4"
  },
  {
   "cell_type": "code",
   "execution_count": null,
   "outputs": [],
   "source": [
    "graph.get_state(config).values.get(\"summary\",\"\")"
   ],
   "metadata": {
    "collapsed": false
   },
   "id": "4e05b0b06cdddb1"
  },
  {
   "cell_type": "code",
   "execution_count": null,
   "outputs": [],
   "source": [
    "messages = [HumanMessage(content=\"What is my name?\")]\n",
    "messages = graph.invoke({\"messages\": messages}, config)\n",
    "for m in messages['messages']:\n",
    "    m.pretty_print()"
   ],
   "metadata": {
    "collapsed": false
   },
   "id": "dd8d9b0ed8c3f2df"
  },
  {
   "cell_type": "code",
   "execution_count": null,
   "outputs": [],
   "source": [
    "graph.get_state(config).values.get(\"summary\",\"\")"
   ],
   "metadata": {
    "collapsed": false
   },
   "id": "26e55bff0f0c6fdb"
  },
  {
   "cell_type": "code",
   "execution_count": null,
   "outputs": [],
   "source": [
    "messages = [HumanMessage(content=\"I have an appointmnet on October 9. I want to reschedule it to November 5th.\")]\n",
    "messages = graph.invoke({\"messages\": messages}, config)\n",
    "for m in messages['messages']:\n",
    "    m.pretty_print()"
   ],
   "metadata": {
    "collapsed": false
   },
   "id": "f89bb14dad789feb"
  },
  {
   "cell_type": "code",
   "execution_count": null,
   "outputs": [],
   "source": [
    "graph.get_state(thread).values.get(\"summary\",\"\")"
   ],
   "metadata": {
    "collapsed": false
   },
   "id": "19adfb478770ac65"
  },
  {
   "cell_type": "code",
   "execution_count": null,
   "outputs": [],
   "source": [],
   "metadata": {
    "collapsed": false
   },
   "id": "19d48e7971aa57c4"
  }
 ],
 "metadata": {
  "kernelspec": {
   "display_name": "Python 3",
   "language": "python",
   "name": "python3"
  },
  "language_info": {
   "codemirror_mode": {
    "name": "ipython",
    "version": 2
   },
   "file_extension": ".py",
   "mimetype": "text/x-python",
   "name": "python",
   "nbconvert_exporter": "python",
   "pygments_lexer": "ipython2",
   "version": "2.7.6"
  }
 },
 "nbformat": 4,
 "nbformat_minor": 5
}
