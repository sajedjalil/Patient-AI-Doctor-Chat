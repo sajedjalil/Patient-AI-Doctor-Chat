{
 "cells": [
  {
   "cell_type": "code",
   "execution_count": 129,
   "id": "initial_id",
   "metadata": {
    "collapsed": true,
    "ExecuteTime": {
     "end_time": "2024-09-27T22:07:41.127114Z",
     "start_time": "2024-09-27T22:07:41.121472Z"
    }
   },
   "outputs": [],
   "source": [
    "import os, getpass\n",
    "def _set_env(var: str):\n",
    "    if not os.environ.get(var):\n",
    "        os.environ[var] = getpass.getpass(f\"{var}: \")\n",
    "\n",
    "_set_env(\"ANTHROPIC_API_KEY\")\n",
    "_set_env(\"LANGCHAIN_API_KEY\")\n",
    "\n",
    "os.environ[\"LANGCHAIN_ENDPOINT\"] = \"https://api.smith.langchain.com\"\n",
    "os.environ[\"LANGCHAIN_TRACING_V2\"] = \"true\"\n",
    "os.environ[\"LANGCHAIN_PROJECT\"] = \"patient-ai-chat\""
   ]
  },
  {
   "cell_type": "code",
   "execution_count": 130,
   "outputs": [],
   "source": [
    "class Tools:\n",
    "    def request_medication_change(previous_medication: str) -> str:\n",
    "        \"\"\"Puts a request to the doctor for medication change.\n",
    "\n",
    "        Returns a string with the name of current medication and Change request submitted.\n",
    "\n",
    "        Args:\n",
    "            previous_medication: first str\n",
    "        \"\"\"\n",
    "        return \"Change request submitted for \" + previous_medication\n",
    "\n",
    "\n",
    "    def make_appointment(date: str, reason: str) -> str:\n",
    "        \"\"\"Puts an appointment request on the specified date and reason.\n",
    "\n",
    "        Returns a string with the reason for the requested appointment and date for the appointment\n",
    "\n",
    "        Args:\n",
    "            date: first str\n",
    "            reason: second str\n",
    "        \"\"\"\n",
    "        return \"Appointment requested on \" + date + \" for \" + reason\n",
    "\n",
    "\n",
    "    def request_appointment_change(past_date: str, requested_date: str) -> str:\n",
    "        \"\"\"Puts an appointment change request for a given date and requested.\n",
    "\n",
    "        Returns a string with the changed and previous date for appointment.\n",
    "\n",
    "        Args:\n",
    "            past_date: first str\n",
    "            requested_date: second str\n",
    "        \"\"\"\n",
    "        return past_date + \" \" + requested_date\n"
   ],
   "metadata": {
    "collapsed": false,
    "ExecuteTime": {
     "end_time": "2024-09-27T22:07:41.915408Z",
     "start_time": "2024-09-27T22:07:41.906071Z"
    }
   },
   "id": "1c27c7c6293fd69c"
  },
  {
   "cell_type": "code",
   "execution_count": 131,
   "outputs": [],
   "source": [
    "prompt_text = '''You are a helpful AI medical assistant namely Patient Chat and are developed by a software \n",
    "    engineer named Sajed. \n",
    "    You should only respond to health-related topics such as: \n",
    "    - General human health and lifestyle inquiries.\n",
    "    - Questions about men, women and children health\n",
    "    - Questions about the patient's medical condition, medication regimen, diet, etc. \n",
    "    - Various requests from the patient to their doctor such as make appointments, modify appointments and medication changes. \n",
    "    You should filter out and ignore any unrelated, overly sensitive, or controversial topics.'''"
   ],
   "metadata": {
    "collapsed": false,
    "ExecuteTime": {
     "end_time": "2024-09-27T22:07:42.873790Z",
     "start_time": "2024-09-27T22:07:42.824567Z"
    }
   },
   "id": "95047fae62a556b5"
  },
  {
   "cell_type": "code",
   "execution_count": 132,
   "outputs": [],
   "source": [
    "from langchain_anthropic import ChatAnthropic\n",
    "from langgraph.graph import START, StateGraph, MessagesState, END\n",
    "from langgraph.graph.state import CompiledStateGraph\n",
    "from langgraph.prebuilt import tools_condition, ToolNode\n",
    "from langchain_core.messages import HumanMessage, SystemMessage, AIMessage, RemoveMessage\n",
    "from langgraph.checkpoint.memory import MemorySaver"
   ],
   "metadata": {
    "collapsed": false,
    "ExecuteTime": {
     "end_time": "2024-09-27T22:07:43.614198Z",
     "start_time": "2024-09-27T22:07:43.611022Z"
    }
   },
   "id": "4810819cacd0e170"
  },
  {
   "cell_type": "code",
   "execution_count": 133,
   "outputs": [],
   "source": [
    "def bind_tools():\n",
    "    tool_list = [Tools.request_medication_change, Tools.make_appointment, Tools.request_appointment_change]\n",
    "    return model.bind_tools(tool_list)"
   ],
   "metadata": {
    "collapsed": false,
    "ExecuteTime": {
     "end_time": "2024-09-27T22:07:44.333606Z",
     "start_time": "2024-09-27T22:07:44.323578Z"
    }
   },
   "id": "b3c188ff47da4c94"
  },
  {
   "cell_type": "code",
   "execution_count": 134,
   "outputs": [],
   "source": [
    "class State(MessagesState):\n",
    "    summary: str\n",
    "\n",
    "def assistant(state: State):\n",
    "    # Prompt message\n",
    "    sys_msg = SystemMessage(content=prompt_text)\n",
    "    model_with_tools = model.bind_tools(tool_list)\n",
    "    return {\"messages\": [model_with_tools.invoke([sys_msg] + state[\"messages\"])]}\n"
   ],
   "metadata": {
    "collapsed": false,
    "ExecuteTime": {
     "end_time": "2024-09-27T22:07:44.909184Z",
     "start_time": "2024-09-27T22:07:44.903963Z"
    }
   },
   "id": "ba90b9d446afcc2"
  },
  {
   "cell_type": "code",
   "execution_count": 135,
   "outputs": [],
   "source": [
    "from typing import Literal\n",
    "\n",
    "\n",
    "def summarize_conversation(state: State):\n",
    "    \n",
    "    summary = state.get(\"summary\", \"\")\n",
    "\n",
    "    if summary:\n",
    "        summary_message = (\n",
    "            f\"This is summary of the conversation to date: {summary}\\n\\n\"\n",
    "            \"Extend the summary by taking into account the new messages above:\"\n",
    "        )\n",
    "    else:\n",
    "        summary_message = \"Create a summary of the conversation above:\"\n",
    "\n",
    "    # Add prompt to our history\n",
    "    messages = state[\"messages\"] + [HumanMessage(content=summary_message)]\n",
    "    response = model.invoke(messages)\n",
    "    \n",
    "    # Delete all but the 2 most recent messages\n",
    "    delete_messages = [RemoveMessage(id=m.id) for m in state[\"messages\"][:-2]]\n",
    "    return {\"summary\": response.content, \"messages\": delete_messages}\n",
    "\n",
    "# Determine whether to end or summarize the conversation\n",
    "def should_continue(state: State) -> Literal[\"summarize_conversation\", \"__end__\"]:\n",
    "    messages = state[\"messages\"]\n",
    "    \n",
    "    # If there are more than four messages, then we summarize the conversation\n",
    "    if len(messages) >= 6:\n",
    "        return \"summarize_conversation\"\n",
    "    \n",
    "    # Otherwise we can just end\n",
    "    return \"__end__\""
   ],
   "metadata": {
    "collapsed": false,
    "ExecuteTime": {
     "end_time": "2024-09-27T22:07:45.481121Z",
     "start_time": "2024-09-27T22:07:45.476209Z"
    }
   },
   "id": "d9d03c55b75569f5"
  },
  {
   "cell_type": "code",
   "execution_count": 145,
   "outputs": [],
   "source": [
    "def build_graph() -> CompiledStateGraph:\n",
    "    builder = StateGraph(State)\n",
    "    builder.add_node(\"assistant\", assistant)\n",
    "    builder.add_node(\"tools\", ToolNode(tool_list))\n",
    "    builder.add_node(summarize_conversation)\n",
    "\n",
    "    builder.add_edge(START, \"assistant\")\n",
    "    builder.add_conditional_edges(\"assistant\", tools_condition)\n",
    "    builder.add_conditional_edges(\"assistant\", should_continue)\n",
    "    builder.add_edge(\"tools\", \"assistant\")\n",
    "    builder.add_edge(\"summarize_conversation\", END)\n",
    "    \n",
    "    memory = MemorySaver()\n",
    "    return builder.compile(checkpointer=memory)\n",
    "    "
   ],
   "metadata": {
    "collapsed": false,
    "ExecuteTime": {
     "end_time": "2024-09-27T22:11:13.356Z",
     "start_time": "2024-09-27T22:11:13.342046Z"
    }
   },
   "id": "d133357937cfd6d8"
  },
  {
   "cell_type": "code",
   "execution_count": 146,
   "outputs": [
    {
     "data": {
      "image/jpeg": "[encoded data removed]",
      "text/plain": "<IPython.core.display.Image object>"
     },
     "metadata": {},
     "output_type": "display_data"
    }
   ],
   "source": [
    "from IPython.display import Image, display\n",
    "\n",
    "model = ChatAnthropic(model=\"claude-3-haiku-20240307\")\n",
    "tool_list = [Tools.request_medication_change, Tools.make_appointment, Tools.request_appointment_change]\n",
    "graph = build_graph()\n",
    "\n",
    "display(Image(graph.get_graph(xray=True).draw_mermaid_png()))"
   ],
   "metadata": {
    "collapsed": false,
    "ExecuteTime": {
     "end_time": "2024-09-27T22:11:14.378568Z",
     "start_time": "2024-09-27T22:11:14.245365Z"
    }
   },
   "id": "78e9e5f60cb67a84"
  },
  {
   "cell_type": "code",
   "execution_count": 147,
   "outputs": [
    {
     "name": "stdout",
     "output_type": "stream",
     "text": [
      "================================\u001B[1m Human Message \u001B[0m=================================\n",
      "\n",
      "My name is Sajed\n",
      "==================================\u001B[1m Ai Message \u001B[0m==================================\n",
      "\n",
      "It's nice to meet you Sajed. As your AI medical assistant, I'm here to help you with any health-related questions or requests. Please feel free to let me know how I can assist you. I'll do my best to provide helpful information or take the necessary actions on your behalf. What would you like help with today?\n"
     ]
    }
   ],
   "source": [
    "messages = [HumanMessage(content=\"My name is Sajed\")]\n",
    "config = {\"configurable\": {\"thread_id\": \"3\"}}\n",
    "messages = graph.invoke({\"messages\": messages}, config)\n",
    "for m in messages['messages']:\n",
    "    m.pretty_print()"
   ],
   "metadata": {
    "collapsed": false,
    "ExecuteTime": {
     "end_time": "2024-09-27T22:11:16.201252Z",
     "start_time": "2024-09-27T22:11:15.192816Z"
    }
   },
   "id": "f6ad6c70c901ebd6"
  },
  {
   "cell_type": "code",
   "execution_count": 148,
   "outputs": [
    {
     "name": "stdout",
     "output_type": "stream",
     "text": [
      "================================\u001B[1m Human Message \u001B[0m=================================\n",
      "\n",
      "What is my name?\n",
      "==================================\u001B[1m Ai Message \u001B[0m==================================\n",
      "\n",
      "Your name is Sajed, as you mentioned earlier.\n"
     ]
    }
   ],
   "source": [
    "messages = [HumanMessage(content=\"What is my name?\")]\n",
    "messages = graph.invoke({\"messages\": messages}, config)\n",
    "for m in messages['messages']:\n",
    "    m.pretty_print()"
   ],
   "metadata": {
    "collapsed": false,
    "ExecuteTime": {
     "end_time": "2024-09-27T22:11:17.549739Z",
     "start_time": "2024-09-27T22:11:16.172052Z"
    }
   },
   "id": "d5f776f77ca58fc4"
  },
  {
   "cell_type": "code",
   "execution_count": 149,
   "outputs": [
    {
     "data": {
      "text/plain": "\"Here's a summary of our conversation so far:\\n\\nYou introduced yourself and told me your name is Sajed. As an AI medical assistant, I greeted you and said I'm here to help with any health-related questions or requests you may have. I asked what I could assist you with today. You then asked what your name is, and I reminded you that you had stated your name is Sajed earlier in our conversation.\""
     },
     "execution_count": 149,
     "metadata": {},
     "output_type": "execute_result"
    }
   ],
   "source": [
    "graph.get_state(config).values.get(\"summary\",\"\")"
   ],
   "metadata": {
    "collapsed": false,
    "ExecuteTime": {
     "end_time": "2024-09-27T22:11:17.550257Z",
     "start_time": "2024-09-27T22:11:17.526986Z"
    }
   },
   "id": "4e05b0b06cdddb1"
  },
  {
   "cell_type": "code",
   "execution_count": 140,
   "outputs": [
    {
     "name": "stdout",
     "output_type": "stream",
     "text": [
      "================================\u001B[1m Human Message \u001B[0m=================================\n",
      "\n",
      "My name is Sajed\n",
      "==================================\u001B[1m Ai Message \u001B[0m==================================\n",
      "\n",
      "It's nice to meet you Sajed! As an AI medical assistant, I'm here to assist you with health-related topics. Please let me know if you have any questions about your medical condition, medication, diet, or if you need help making or changing any appointments with your doctor. I'm happy to help in any way I can within the scope of my capabilities as a healthcare-focused AI.\n",
      "================================\u001B[1m Human Message \u001B[0m=================================\n",
      "\n",
      "What is my name?\n",
      "==================================\u001B[1m Ai Message \u001B[0m==================================\n",
      "\n",
      "I'm sorry, but I don't actually know your name. In our previous exchange, you introduced yourself as Sajed, but I don't have any other personal information about you stored. As an AI assistant, I don't have the ability to remember or track individual users' identities. I'm happy to continue our conversation and assist you with any health-related topics you'd like to discuss.\n",
      "================================\u001B[1m Human Message \u001B[0m=================================\n",
      "\n",
      "What is my name?\n",
      "==================================\u001B[1m Ai Message \u001B[0m==================================\n",
      "\n",
      "I do not actually know your name. As an AI assistant, I do not have the capability to store or remember individual users' identities or personal information. I can only respond based on the information provided to me during our current conversation. If you have shared your name with me previously, I apologize that I do not have the ability to recall that. Please feel free to provide your name again, and I'll be happy to address you by it going forward.\n"
     ]
    }
   ],
   "source": [
    "messages = [HumanMessage(content=\"What is my name?\")]\n",
    "messages = graph.invoke({\"messages\": messages}, config)\n",
    "for m in messages['messages']:\n",
    "    m.pretty_print()"
   ],
   "metadata": {
    "collapsed": false,
    "ExecuteTime": {
     "end_time": "2024-09-27T22:07:51.319008Z",
     "start_time": "2024-09-27T22:07:50.038285Z"
    }
   },
   "id": "dd8d9b0ed8c3f2df"
  },
  {
   "cell_type": "code",
   "execution_count": 141,
   "outputs": [
    {
     "data": {
      "text/plain": "''"
     },
     "execution_count": 141,
     "metadata": {},
     "output_type": "execute_result"
    }
   ],
   "source": [
    "graph.get_state(config).values.get(\"summary\",\"\")"
   ],
   "metadata": {
    "collapsed": false,
    "ExecuteTime": {
     "end_time": "2024-09-27T22:08:14.587646Z",
     "start_time": "2024-09-27T22:08:14.577562Z"
    }
   },
   "id": "26e55bff0f0c6fdb"
  },
  {
   "cell_type": "code",
   "execution_count": 126,
   "outputs": [
    {
     "name": "stdout",
     "output_type": "stream",
     "text": [
      "================================\u001B[1m Human Message \u001B[0m=================================\n",
      "\n",
      "My name is Sajed\n",
      "==================================\u001B[1m Ai Message \u001B[0m==================================\n",
      "\n",
      "It's nice to meet you Sajed. As an AI medical assistant, I'm happy to help you with any health-related inquiries you may have. Please feel free to ask me questions about your health, medications, diet, or anything else related to your wellbeing. I'll do my best to provide helpful information or direct you to the appropriate resources. What would you like assistance with today?\n",
      "================================\u001B[1m Human Message \u001B[0m=================================\n",
      "\n",
      "What is my name?\n",
      "==================================\u001B[1m Ai Message \u001B[0m==================================\n",
      "\n",
      "You said your name is Sajed.\n",
      "================================\u001B[1m Human Message \u001B[0m=================================\n",
      "\n",
      "I have an appointmnet on October 9. I want to reschedule it to November 5th.\n",
      "==================================\u001B[1m Ai Message \u001B[0m==================================\n",
      "\n",
      "[{'text': 'Okay, let me help you request an appointment change:', 'type': 'text'}, {'id': 'toolu_01Wieo8wCoEDPesmkUwNmRUH', 'input': {'past_date': 'October 9', 'requested_date': 'November 5'}, 'name': 'request_appointment_change', 'type': 'tool_use'}]\n",
      "Tool Calls:\n",
      "  request_appointment_change (toolu_01Wieo8wCoEDPesmkUwNmRUH)\n",
      " Call ID: toolu_01Wieo8wCoEDPesmkUwNmRUH\n",
      "  Args:\n",
      "    past_date: October 9\n",
      "    requested_date: November 5\n",
      "=================================\u001B[1m Tool Message \u001B[0m=================================\n",
      "Name: request_appointment_change\n",
      "\n",
      "October 9 November 5\n",
      "==================================\u001B[1m Ai Message \u001B[0m==================================\n",
      "\n",
      "I've submitted a request to reschedule your appointment from October 9th to November 5th. Let me know if you need anything else!\n"
     ]
    }
   ],
   "source": [
    "messages = [HumanMessage(content=\"I have an appointmnet on October 9. I want to reschedule it to November 5th.\")]\n",
    "messages = graph.invoke({\"messages\": messages}, config)\n",
    "for m in messages['messages']:\n",
    "    m.pretty_print()"
   ],
   "metadata": {
    "collapsed": false,
    "ExecuteTime": {
     "end_time": "2024-09-27T22:04:35.790569Z",
     "start_time": "2024-09-27T22:04:34.108583Z"
    }
   },
   "id": "f89bb14dad789feb"
  },
  {
   "cell_type": "code",
   "execution_count": 128,
   "outputs": [
    {
     "data": {
      "text/plain": "''"
     },
     "execution_count": 128,
     "metadata": {},
     "output_type": "execute_result"
    }
   ],
   "source": [
    "graph.get_state(thread).values.get(\"summary\",\"\")"
   ],
   "metadata": {
    "collapsed": false,
    "ExecuteTime": {
     "end_time": "2024-09-27T22:05:27.747552Z",
     "start_time": "2024-09-27T22:05:27.717223Z"
    }
   },
   "id": "19adfb478770ac65"
  },
  {
   "cell_type": "code",
   "execution_count": null,
   "outputs": [],
   "source": [],
   "metadata": {
    "collapsed": false
   },
   "id": "19d48e7971aa57c4"
  }
 ],
 "metadata": {
  "kernelspec": {
   "display_name": "Python 3",
   "language": "python",
   "name": "python3"
  },
  "language_info": {
   "codemirror_mode": {
    "name": "ipython",
    "version": 2
   },
   "file_extension": ".py",
   "mimetype": "text/x-python",
   "name": "python",
   "nbconvert_exporter": "python",
   "pygments_lexer": "ipython2",
   "version": "2.7.6"
  }
 },
 "nbformat": 4,
 "nbformat_minor": 5
}
