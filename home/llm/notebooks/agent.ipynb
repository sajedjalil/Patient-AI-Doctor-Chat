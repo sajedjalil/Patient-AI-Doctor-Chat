{
 "cells": [
  {
   "cell_type": "code",
   "execution_count": 25,
   "id": "initial_id",
   "metadata": {
    "collapsed": true,
    "ExecuteTime": {
     "end_time": "2024-09-29T02:56:30.120364Z",
     "start_time": "2024-09-29T02:56:30.107248Z"
    }
   },
   "outputs": [],
   "source": [
    "import os, getpass\n",
    "def _set_env(var: str):\n",
    "    if not os.environ.get(var):\n",
    "        os.environ[var] = getpass.getpass(f\"{var}: \")\n",
    "\n",
    "_set_env(\"ANTHROPIC_API_KEY\")\n",
    "_set_env(\"LANGCHAIN_API_KEY\")\n",
    "\n",
    "os.environ[\"LANGCHAIN_ENDPOINT\"] = \"https://api.smith.langchain.com\"\n",
    "os.environ[\"LANGCHAIN_TRACING_V2\"] = \"true\"\n",
    "os.environ[\"LANGCHAIN_PROJECT\"] = \"patient-ai-chat\""
   ]
  },
  {
   "cell_type": "code",
   "execution_count": 26,
   "outputs": [],
   "source": [
    "class Tools:\n",
    "    def request_medication_change(previous_medication: str) -> str:\n",
    "        \"\"\"Puts a request to the doctor for medication change.\n",
    "\n",
    "        Returns a string with the name of current medication and Change request submitted.\n",
    "\n",
    "        Args:\n",
    "            previous_medication: first str\n",
    "        \"\"\"\n",
    "        return \"Change request submitted for \" + previous_medication\n",
    "\n",
    "\n",
    "    def make_appointment(date: str, reason: str) -> str:\n",
    "        \"\"\"Puts an appointment request on the specified date and reason.\n",
    "\n",
    "        Returns a string with the reason for the requested appointment and date for the appointment\n",
    "\n",
    "        Args:\n",
    "            date: first str\n",
    "            reason: second str\n",
    "        \"\"\"\n",
    "        return \"Appointment requested on \" + date + \" for \" + reason\n",
    "\n",
    "\n",
    "    def request_appointment_change(past_date: str, requested_date: str) -> str:\n",
    "        \"\"\"Puts an appointment change request for a given date and requested.\n",
    "\n",
    "        Returns a string with the changed and previous date for appointment.\n",
    "\n",
    "        Args:\n",
    "            past_date: first str\n",
    "            requested_date: second str\n",
    "        \"\"\"\n",
    "        return past_date + \" \" + requested_date\n"
   ],
   "metadata": {
    "collapsed": false,
    "ExecuteTime": {
     "end_time": "2024-09-29T02:56:30.467633Z",
     "start_time": "2024-09-29T02:56:30.463196Z"
    }
   },
   "id": "1c27c7c6293fd69c"
  },
  {
   "cell_type": "code",
   "execution_count": 27,
   "outputs": [],
   "source": [
    "prompt_text = '''You are a helpful AI medical assistant namely Patient Chat and are developed by a software \n",
    "    engineer named Sajed. \n",
    "    You should only respond to health-related topics such as: \n",
    "    - General human health and lifestyle inquiries.\n",
    "    - Questions about men, women and children health\n",
    "    - Questions about the patient's medical condition, medication regimen, diet, etc. \n",
    "    - Various requests from the patient to their doctor such as make appointments, modify appointments and medication changes. \n",
    "    You should filter out and ignore any unrelated, overly sensitive, or controversial topics.'''"
   ],
   "metadata": {
    "collapsed": false,
    "ExecuteTime": {
     "end_time": "2024-09-29T02:56:30.813537Z",
     "start_time": "2024-09-29T02:56:30.789797Z"
    }
   },
   "id": "95047fae62a556b5"
  },
  {
   "cell_type": "code",
   "execution_count": 28,
   "outputs": [],
   "source": [
    "from langchain_anthropic import ChatAnthropic\n",
    "from langgraph.graph import START, StateGraph, MessagesState, END\n",
    "from langgraph.graph.state import CompiledStateGraph\n",
    "from langgraph.prebuilt import tools_condition, ToolNode\n",
    "from langchain_core.messages import HumanMessage, SystemMessage, AIMessage, RemoveMessage\n",
    "from langgraph.checkpoint.memory import MemorySaver\n",
    "\n",
    "model = ChatAnthropic(model=\"claude-3-haiku-20240307\")"
   ],
   "metadata": {
    "collapsed": false,
    "ExecuteTime": {
     "end_time": "2024-09-29T02:56:31.283400Z",
     "start_time": "2024-09-29T02:56:31.239095Z"
    }
   },
   "id": "4810819cacd0e170"
  },
  {
   "cell_type": "code",
   "execution_count": 29,
   "outputs": [],
   "source": [
    "def bind_tools():\n",
    "    tool_list = [Tools.request_medication_change, Tools.make_appointment, Tools.request_appointment_change]\n",
    "    return model.bind_tools(tool_list)"
   ],
   "metadata": {
    "collapsed": false,
    "ExecuteTime": {
     "end_time": "2024-09-29T02:56:31.465238Z",
     "start_time": "2024-09-29T02:56:31.459700Z"
    }
   },
   "id": "b3c188ff47da4c94"
  },
  {
   "cell_type": "code",
   "execution_count": 30,
   "outputs": [],
   "source": [
    "class State(MessagesState):\n",
    "    summary: str\n",
    "\n",
    "def assistant(state: State):\n",
    "    # Prompt message\n",
    "    sys_msg = SystemMessage(content=prompt_text)\n",
    "    model_with_tools = model.bind_tools(tool_list)\n",
    "    return {\"messages\": [model_with_tools.invoke([sys_msg] + state[\"messages\"])]}\n"
   ],
   "metadata": {
    "collapsed": false,
    "ExecuteTime": {
     "end_time": "2024-09-29T02:56:31.925567Z",
     "start_time": "2024-09-29T02:56:31.909495Z"
    }
   },
   "id": "ba90b9d446afcc2"
  },
  {
   "cell_type": "markdown",
   "source": [
    "## Summarization Nodes"
   ],
   "metadata": {
    "collapsed": false
   },
   "id": "802b83e0effa47bd"
  },
  {
   "cell_type": "code",
   "execution_count": 44,
   "outputs": [],
   "source": [
    "from typing import Literal\n",
    "\n",
    "\n",
    "def summarize_conversation(state: State):\n",
    "    \n",
    "    summary = state.get(\"summary\", \"\")\n",
    "\n",
    "    if summary:\n",
    "        summary_message = (\n",
    "            f\"This is summary of the conversation to date: {summary}\\n\\n\"\n",
    "            \"Extend the summary by taking into account the new messages above:\"\n",
    "        )\n",
    "    else:\n",
    "        summary_message = \"Create a summary of the conversation above:\"\n",
    "\n",
    "    # Add prompt to our history\n",
    "    messages = state[\"messages\"] + [HumanMessage(content=summary_message)]\n",
    "    response = model.invoke(messages)\n",
    "    \n",
    "    # Delete all but the 2 most recent messages\n",
    "    delete_messages = [RemoveMessage(id=m.id) for m in state[\"messages\"][:-2]]\n",
    "    return {\"summary\": response.content, \"messages\": delete_messages}\n",
    "\n",
    "# Determine whether to end or summarize the conversation\n",
    "def if_need_summarization(state: State) -> Literal[\"summarize_conversation\", \"__end__\"]:\n",
    "    messages = state[\"messages\"]\n",
    "\n",
    "    # If there are more than six messages, then we summarize the conversation\n",
    "    if len(messages) >= 6:\n",
    "        return \"summarize_conversation\"\n",
    "    \n",
    "    # Otherwise we can just end\n",
    "    return \"__end__\""
   ],
   "metadata": {
    "collapsed": false,
    "ExecuteTime": {
     "end_time": "2024-09-29T02:59:14.716179Z",
     "start_time": "2024-09-29T02:59:14.686261Z"
    }
   },
   "id": "d9d03c55b75569f5"
  },
  {
   "cell_type": "markdown",
   "source": [
    "## Summarization sub graph"
   ],
   "metadata": {
    "collapsed": false
   },
   "id": "98201deee7e4d0a"
  },
  {
   "cell_type": "code",
   "execution_count": 45,
   "outputs": [],
   "source": [
    "def build_summarize_subgraph() -> StateGraph:\n",
    "    builder = StateGraph(State)\n",
    "    builder.add_node(\"summarize_conversation\", summarize_conversation)\n",
    "    \n",
    "    builder.add_conditional_edges(START, if_need_summarization)\n",
    "    builder.add_edge(\"summarize_conversation\", END)\n",
    "    \n",
    "    return builder\n",
    "\n"
   ],
   "metadata": {
    "collapsed": false,
    "ExecuteTime": {
     "end_time": "2024-09-29T02:59:15.306194Z",
     "start_time": "2024-09-29T02:59:15.299790Z"
    }
   },
   "id": "d133357937cfd6d8"
  },
  {
   "cell_type": "code",
   "execution_count": 46,
   "outputs": [
    {
     "data": {
      "image/jpeg": "[encoded data removed]",
      "text/plain": "<IPython.core.display.Image object>"
     },
     "metadata": {},
     "output_type": "display_data"
    }
   ],
   "source": [
    "from IPython.display import Image, display\n",
    "\n",
    "graph = build_summarize_subgraph().compile()\n",
    "\n",
    "display(Image(graph.get_graph(xray=True).draw_mermaid_png()))"
   ],
   "metadata": {
    "collapsed": false,
    "ExecuteTime": {
     "end_time": "2024-09-29T02:59:15.665618Z",
     "start_time": "2024-09-29T02:59:15.591560Z"
    }
   },
   "id": "92f3e4e210c3f663"
  },
  {
   "cell_type": "code",
   "execution_count": 90,
   "outputs": [],
   "source": [
    "def build_graph() -> StateGraph:\n",
    "    builder = StateGraph(State)\n",
    "    builder.add_node(\"assistant\", assistant)\n",
    "    builder.add_node(\"tools\", ToolNode(tool_list))\n",
    "    builder.add_node(\"summarization_subgraph\", build_summarize_subgraph().compile())\n",
    "    \n",
    "    builder.add_edge(START, \"summarization_subgraph\")\n",
    "    builder.add_edge(\"summarization_subgraph\", \"assistant\")\n",
    "    builder.add_conditional_edges(\"assistant\", tools_condition)\n",
    "    builder.add_edge(\"tools\", \"assistant\")\n",
    "    \n",
    "    return builder\n",
    "\n"
   ],
   "metadata": {
    "collapsed": false,
    "ExecuteTime": {
     "end_time": "2024-09-29T03:11:07.944730Z",
     "start_time": "2024-09-29T03:11:07.940389Z"
    }
   },
   "id": "8e24f21d030842f"
  },
  {
   "cell_type": "code",
   "execution_count": 91,
   "outputs": [
    {
     "data": {
      "image/jpeg": "[encoded data removed]",
      "text/plain": "<IPython.core.display.Image object>"
     },
     "metadata": {},
     "output_type": "display_data"
    }
   ],
   "source": [
    "from IPython.display import Image, display\n",
    "\n",
    "tool_list = [Tools.request_medication_change, Tools.make_appointment, Tools.request_appointment_change]\n",
    "memory = MemorySaver()\n",
    "graph = build_graph().compile(checkpointer=memory)\n",
    "\n",
    "display(Image(graph.get_graph(xray=True).draw_mermaid_png()))"
   ],
   "metadata": {
    "collapsed": false,
    "ExecuteTime": {
     "end_time": "2024-09-29T03:11:08.940758Z",
     "start_time": "2024-09-29T03:11:08.879269Z"
    }
   },
   "id": "78e9e5f60cb67a84"
  },
  {
   "cell_type": "code",
   "execution_count": 56,
   "outputs": [
    {
     "name": "stdout",
     "output_type": "stream",
     "text": [
      "================================\u001B[1m Human Message \u001B[0m=================================\n",
      "\n",
      "My name is Sajed\n",
      "==================================\u001B[1m Ai Message \u001B[0m==================================\n",
      "\n",
      "Hello Sajed, it's nice to meet you. As an AI medical assistant, I'm happy to assist you with any health-related questions or requests. Please let me know if there is anything I can help you with regarding your medical care, medication management, appointments, or other health-related topics. I'm here to provide helpful information to support your wellbeing.\n"
     ]
    }
   ],
   "source": [
    "messages = [HumanMessage(content=\"My name is Sajed\")]\n",
    "config = {\"configurable\": {\"thread_id\": \"3\"}}\n",
    "messages = graph.invoke({\"messages\": messages}, config)\n",
    "for m in messages['messages']:\n",
    "    m.pretty_print()"
   ],
   "metadata": {
    "collapsed": false,
    "ExecuteTime": {
     "end_time": "2024-09-29T03:00:19.998181Z",
     "start_time": "2024-09-29T03:00:18.905421Z"
    }
   },
   "id": "f6ad6c70c901ebd6"
  },
  {
   "cell_type": "code",
   "execution_count": null,
   "outputs": [],
   "source": [
    "messages = [HumanMessage(content=\"What is my name?\")]\n",
    "messages = graph.invoke({\"messages\": messages}, config)\n",
    "for m in messages['messages']:\n",
    "    m.pretty_print()"
   ],
   "metadata": {
    "collapsed": false
   },
   "id": "d5f776f77ca58fc4"
  },
  {
   "cell_type": "code",
   "execution_count": null,
   "outputs": [],
   "source": [
    "graph.get_state(config).values.get(\"summary\",\"\")"
   ],
   "metadata": {
    "collapsed": false
   },
   "id": "4e05b0b06cdddb1"
  },
  {
   "cell_type": "code",
   "execution_count": null,
   "outputs": [],
   "source": [
    "messages = [HumanMessage(content=\"What is my name?\")]\n",
    "messages = graph.invoke({\"messages\": messages}, config)\n",
    "for m in messages['messages']:\n",
    "    m.pretty_print()"
   ],
   "metadata": {
    "collapsed": false
   },
   "id": "dd8d9b0ed8c3f2df"
  },
  {
   "cell_type": "code",
   "execution_count": null,
   "outputs": [],
   "source": [
    "graph.get_state(config).values.get(\"summary\",\"\")"
   ],
   "metadata": {
    "collapsed": false
   },
   "id": "26e55bff0f0c6fdb"
  },
  {
   "cell_type": "code",
   "execution_count": null,
   "outputs": [],
   "source": [
    "messages = [HumanMessage(content=\"I have an appointmnet on October 9. I want to reschedule it to November 5th.\")]\n",
    "messages = graph.invoke({\"messages\": messages}, config)\n",
    "for m in messages['messages']:\n",
    "    m.pretty_print()"
   ],
   "metadata": {
    "collapsed": false
   },
   "id": "f89bb14dad789feb"
  },
  {
   "cell_type": "code",
   "execution_count": null,
   "outputs": [],
   "source": [
    "graph.get_state(thread).values.get(\"summary\",\"\")"
   ],
   "metadata": {
    "collapsed": false
   },
   "id": "19adfb478770ac65"
  },
  {
   "cell_type": "code",
   "execution_count": null,
   "outputs": [],
   "source": [],
   "metadata": {
    "collapsed": false
   },
   "id": "19d48e7971aa57c4"
  }
 ],
 "metadata": {
  "kernelspec": {
   "display_name": "Python 3",
   "language": "python",
   "name": "python3"
  },
  "language_info": {
   "codemirror_mode": {
    "name": "ipython",
    "version": 2
   },
   "file_extension": ".py",
   "mimetype": "text/x-python",
   "name": "python",
   "nbconvert_exporter": "python",
   "pygments_lexer": "ipython2",
   "version": "2.7.6"
  }
 },
 "nbformat": 4,
 "nbformat_minor": 5
}
