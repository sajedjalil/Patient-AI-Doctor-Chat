{
 "cells": [
  {
   "cell_type": "code",
   "execution_count": 16,
   "id": "initial_id",
   "metadata": {
    "collapsed": true,
    "ExecuteTime": {
     "end_time": "2024-10-02T20:56:00.482083Z",
     "start_time": "2024-10-02T20:56:00.475658Z"
    }
   },
   "outputs": [],
   "source": [
    "import os, getpass\n",
    "def _set_env(var: str):\n",
    "    if not os.environ.get(var):\n",
    "        os.environ[var] = getpass.getpass(f\"{var}: \")\n",
    "# \n",
    "_set_env(\"ANTHROPIC_API_KEY\")\n",
    "_set_env(\"LANGCHAIN_API_KEY\")\n",
    "\n",
    "os.environ[\"LANGCHAIN_ENDPOINT\"] = \"https://api.smith.langchain.com\"\n",
    "os.environ[\"LANGCHAIN_TRACING_V2\"] = \"true\"\n",
    "os.environ[\"LANGCHAIN_PROJECT\"] = \"patient-ai-chat\""
   ]
  },
  {
   "cell_type": "code",
   "execution_count": 17,
   "outputs": [],
   "source": [
    "class Tools:\n",
    "    def request_medication_change( current_medication: str) -> str:\n",
    "        \"\"\"Puts a request to the doctor for medication change when the current medication name is mentioned\n",
    "\n",
    "        Returns a string with the name of current medication and Change request submitted.\n",
    "\n",
    "        Args:\n",
    "            current_medication: first str\n",
    "        \"\"\"\n",
    "        return \"You have made a medication change request for: \" + current_medication\n",
    "\n",
    "    def request_appointment_change( requested_date: str) -> str:\n",
    "        \"\"\"Puts an appointment change request for a requested given date.\n",
    "\n",
    "        Returns a string with the requested date for appointment.\n",
    "\n",
    "        Args:\n",
    "            requested_date: first str\n",
    "        \"\"\"\n",
    "        return \"You have made an appointment Request on: \" + requested_date\n",
    "\n"
   ],
   "metadata": {
    "collapsed": false,
    "ExecuteTime": {
     "end_time": "2024-10-02T20:56:01.298094Z",
     "start_time": "2024-10-02T20:56:01.292847Z"
    }
   },
   "id": "1c27c7c6293fd69c"
  },
  {
   "cell_type": "code",
   "execution_count": 18,
   "outputs": [],
   "source": [
    "# prompt used for llm_graph with tool call and summarization\n",
    "llm_prompt_text = '''You are a helpful AI medical assistant namely Patient Chat and are developed by a software \n",
    "engineer named Sajed. You should only respond to health-related topics such as:\n",
    "- General human health and lifestyle \n",
    "inquiries. \n",
    "- Questions about men, women and children health - Questions about the patient's medical condition, \n",
    "medication regimen, diet, etc. \n",
    "- Various requests from the patient to their doctor such as make appointments, \n",
    "modify appointments and medication changes. You should filter out and ignore any unrelated, overly sensitive, \n",
    "or controversial topics.'''"
   ],
   "metadata": {
    "collapsed": false,
    "ExecuteTime": {
     "end_time": "2024-10-02T20:56:01.913470Z",
     "start_time": "2024-10-02T20:56:01.908796Z"
    }
   },
   "id": "95047fae62a556b5"
  },
  {
   "cell_type": "code",
   "execution_count": 19,
   "outputs": [],
   "source": [
    "from langchain_anthropic import ChatAnthropic\n",
    "from langgraph.graph import START, StateGraph, MessagesState, END\n",
    "from langgraph.prebuilt import tools_condition, ToolNode\n",
    "from langchain_core.messages import HumanMessage, SystemMessage, RemoveMessage\n",
    "from langgraph.checkpoint.memory import MemorySaver\n",
    "\n",
    "model = ChatAnthropic(model=\"claude-3-haiku-20240307\")"
   ],
   "metadata": {
    "collapsed": false,
    "ExecuteTime": {
     "end_time": "2024-10-02T20:56:02.485643Z",
     "start_time": "2024-10-02T20:56:02.447957Z"
    }
   },
   "id": "4810819cacd0e170"
  },
  {
   "cell_type": "code",
   "execution_count": 20,
   "outputs": [],
   "source": [
    "def bind_tools():\n",
    "    tool_list = [Tools.request_medication_change, Tools.request_appointment_change]\n",
    "    return model.bind_tools(tool_list)"
   ],
   "metadata": {
    "collapsed": false,
    "ExecuteTime": {
     "end_time": "2024-10-02T20:56:02.972511Z",
     "start_time": "2024-10-02T20:56:02.967407Z"
    }
   },
   "id": "b3c188ff47da4c94"
  },
  {
   "cell_type": "code",
   "execution_count": 21,
   "outputs": [],
   "source": [
    "class State(MessagesState):\n",
    "    summary: str\n",
    "\n",
    "def __ai_agent(state: State):\n",
    "    # Prompt message\n",
    "    sys_msg = SystemMessage(content=llm_prompt_text)\n",
    "    model_with_tools = model.bind_tools(tool_list)\n",
    "    return {\"messages\": [model_with_tools.invoke([sys_msg] + state[\"messages\"])]}\n"
   ],
   "metadata": {
    "collapsed": false,
    "ExecuteTime": {
     "end_time": "2024-10-02T20:56:03.410222Z",
     "start_time": "2024-10-02T20:56:03.401594Z"
    }
   },
   "id": "ba90b9d446afcc2"
  },
  {
   "cell_type": "markdown",
   "source": [
    "## Summarization Nodes"
   ],
   "metadata": {
    "collapsed": false
   },
   "id": "802b83e0effa47bd"
  },
  {
   "cell_type": "code",
   "execution_count": 22,
   "outputs": [],
   "source": [
    "from typing import Literal\n",
    "summarize_trigger_count = 4\n",
    "\n",
    "summary_prompt = (\"Create a summary of the conversation above. Try to summarize within 150 words. Do not mention \"\n",
    "                  \"anything in response like total word count, or anything other than the summary\")\n",
    "\n",
    "def __summarize_conversation(self, state: State) -> dict:\n",
    "       \n",
    "    messages = state[\"messages\"] + [HumanMessage(content=summary_prompt)]\n",
    "    response = self.model.invoke(messages)\n",
    "\n",
    "    delete_messages = [RemoveMessage(id=m.id) for m in state[\"messages\"][:-2]]\n",
    "    return {\"summary\": response.content, \"messages\": delete_messages}\n",
    "\n",
    "def __if_need_summarization(state: State) -> Literal[\"summarize_conversation\", \"__end__\"]:\n",
    "    if len(state[\"messages\"]) >= summarize_trigger_count:\n",
    "        return \"summarize_conversation\"\n",
    "    else:\n",
    "        return \"__end__\""
   ],
   "metadata": {
    "collapsed": false,
    "ExecuteTime": {
     "end_time": "2024-10-02T20:56:04.554513Z",
     "start_time": "2024-10-02T20:56:04.551100Z"
    }
   },
   "id": "d9d03c55b75569f5"
  },
  {
   "cell_type": "markdown",
   "source": [
    "## Summarization sub graph"
   ],
   "metadata": {
    "collapsed": false
   },
   "id": "98201deee7e4d0a"
  },
  {
   "cell_type": "code",
   "execution_count": 23,
   "outputs": [],
   "source": [
    "def __build_summarize_subgraph() -> StateGraph:\n",
    "    builder = StateGraph(State)\n",
    "    builder.add_node(\"summarize_conversation\", __summarize_conversation)\n",
    "    \n",
    "    builder.add_conditional_edges(START, __if_need_summarization)\n",
    "    builder.add_edge(\"summarize_conversation\", END)\n",
    "    \n",
    "    return builder"
   ],
   "metadata": {
    "collapsed": false,
    "ExecuteTime": {
     "end_time": "2024-10-02T20:56:25.993197Z",
     "start_time": "2024-10-02T20:56:25.985601Z"
    }
   },
   "id": "d133357937cfd6d8"
  },
  {
   "cell_type": "code",
   "execution_count": 25,
   "outputs": [
    {
     "data": {
      "image/jpeg": "[encoded data removed]",
      "text/plain": "<IPython.core.display.Image object>"
     },
     "metadata": {},
     "output_type": "display_data"
    }
   ],
   "source": [
    "from IPython.display import Image, display\n",
    "\n",
    "graph = __build_summarize_subgraph().compile()\n",
    "\n",
    "display(Image(graph.get_graph(xray=True).draw_mermaid_png()))"
   ],
   "metadata": {
    "collapsed": false,
    "ExecuteTime": {
     "end_time": "2024-10-02T20:56:30.440417Z",
     "start_time": "2024-10-02T20:56:30.385523Z"
    }
   },
   "id": "92f3e4e210c3f663"
  },
  {
   "cell_type": "markdown",
   "source": [
    "## Tool Call Subgraph"
   ],
   "metadata": {
    "collapsed": false
   },
   "id": "738b3b269219aae6"
  },
  {
   "cell_type": "code",
   "execution_count": 28,
   "outputs": [],
   "source": [
    "tool_list = [Tools.request_medication_change, Tools.request_appointment_change]\n",
    "def __build_tool_call_subgraph() -> StateGraph:\n",
    "    builder = StateGraph(State)\n",
    "    builder.add_node(\"ai_agent\", __ai_agent)\n",
    "    builder.add_node(\"tools\", ToolNode(tool_list))\n",
    "\n",
    "    builder.add_edge(START, \"ai_agent\")\n",
    "    builder.add_conditional_edges(\"ai_agent\", tools_condition)\n",
    "    builder.add_edge(\"tools\", \"ai_agent\")\n",
    "\n",
    "    return builder"
   ],
   "metadata": {
    "collapsed": false,
    "ExecuteTime": {
     "end_time": "2024-10-02T20:56:49.687097Z",
     "start_time": "2024-10-02T20:56:49.683351Z"
    }
   },
   "id": "cc82366430ce1c51"
  },
  {
   "cell_type": "code",
   "execution_count": 29,
   "outputs": [
    {
     "data": {
      "image/jpeg": "[encoded data removed]",
      "text/plain": "<IPython.core.display.Image object>"
     },
     "metadata": {},
     "output_type": "display_data"
    }
   ],
   "source": [
    "from IPython.display import Image, display\n",
    "\n",
    "graph = __build_tool_call_subgraph().compile()\n",
    "\n",
    "display(Image(graph.get_graph(xray=True).draw_mermaid_png()))"
   ],
   "metadata": {
    "collapsed": false,
    "ExecuteTime": {
     "end_time": "2024-10-02T20:56:50.893450Z",
     "start_time": "2024-10-02T20:56:50.185074Z"
    }
   },
   "id": "6f84b8c9e92357ac"
  },
  {
   "cell_type": "code",
   "execution_count": 30,
   "outputs": [],
   "source": [
    "\n",
    "def build_graph() -> StateGraph:\n",
    "    builder = StateGraph(State)\n",
    "    builder.add_node(\"summarization_subgraph\", __build_summarize_subgraph().compile())\n",
    "    builder.add_node(\"tool_call_subgraph\", __build_tool_call_subgraph().compile())\n",
    "\n",
    "    # Set up the flow of the chatbot: start with tool call subgraph, then summarize subgraph, and end\n",
    "    builder.add_edge(START, \"tool_call_subgraph\")\n",
    "    builder.add_edge(\"tool_call_subgraph\", \"summarization_subgraph\")\n",
    "    builder.add_edge(\"summarization_subgraph\", END)\n",
    "    \n",
    "    return builder\n",
    "\n"
   ],
   "metadata": {
    "collapsed": false,
    "ExecuteTime": {
     "end_time": "2024-10-02T20:56:52.283501Z",
     "start_time": "2024-10-02T20:56:52.276323Z"
    }
   },
   "id": "8e24f21d030842f"
  },
  {
   "cell_type": "code",
   "execution_count": 34,
   "outputs": [
    {
     "data": {
      "image/jpeg": "[encoded data removed]",
      "text/plain": "<IPython.core.display.Image object>"
     },
     "metadata": {},
     "output_type": "display_data"
    },
    {
     "data": {
      "text/plain": "20417"
     },
     "execution_count": 34,
     "metadata": {},
     "output_type": "execute_result"
    }
   ],
   "source": [
    "from IPython.display import Image, display\n",
    "\n",
    "memory = MemorySaver()\n",
    "graph = build_graph().compile(checkpointer=memory)\n",
    "\n",
    "display(Image(graph.get_graph(xray=True).draw_mermaid_png()))\n",
    "open(\"llm_graph.png\", \"wb\").write(graph.get_graph(xray=True).draw_mermaid_png())\n"
   ],
   "metadata": {
    "collapsed": false,
    "ExecuteTime": {
     "end_time": "2024-10-02T21:01:24.818832Z",
     "start_time": "2024-10-02T21:01:24.648855Z"
    }
   },
   "id": "78e9e5f60cb67a84"
  },
  {
   "cell_type": "code",
   "execution_count": null,
   "outputs": [],
   "source": [
    "from pprint import pprint\n",
    "\n",
    "messages = [HumanMessage(content=\"My name is Sajed\")]\n",
    "config = {\"configurable\": {\"thread_id\": \"5\"}}\n",
    "messages = graph.invoke({\"messages\": messages}, config)\n",
    "for m in messages['messages']:\n",
    "    m.pretty_print()\n",
    "    \n",
    "pprint(messages)"
   ],
   "metadata": {
    "collapsed": false
   },
   "id": "f6ad6c70c901ebd6"
  }
 ],
 "metadata": {
  "kernelspec": {
   "display_name": "Python 3",
   "language": "python",
   "name": "python3"
  },
  "language_info": {
   "codemirror_mode": {
    "name": "ipython",
    "version": 2
   },
   "file_extension": ".py",
   "mimetype": "text/x-python",
   "name": "python",
   "nbconvert_exporter": "python",
   "pygments_lexer": "ipython2",
   "version": "2.7.6"
  }
 },
 "nbformat": 4,
 "nbformat_minor": 5
}
