{
 "cells": [
  {
   "cell_type": "code",
   "execution_count": null,
   "id": "initial_id",
   "metadata": {
    "collapsed": true
   },
   "outputs": [],
   "source": [
    "import os, getpass\n",
    "def _set_env(var: str):\n",
    "    if not os.environ.get(var):\n",
    "        os.environ[var] = getpass.getpass(f\"{var}: \")\n",
    "\n",
    "# _set_env(\"ANTHROPIC_API_KEY\")\n",
    "# _set_env(\"NEO4J_URI\")\n",
    "# _set_env(\"NEO4J_USERNAME\")\n",
    "# _set_env(\"NEO4J_PASSWORD\")"
   ]
  },
  {
   "cell_type": "code",
   "execution_count": null,
   "outputs": [],
   "source": [
    "from dotenv import load_dotenv  \n",
    "from langchain.chains import GraphCypherQAChain  \n",
    "from langchain_community.graphs import Neo4jGraph  \n",
    "from langchain_core.documents import Document  \n",
    "from langchain_experimental.graph_transformers import LLMGraphTransformer  \n",
    "from langchain_anthropic import ChatAnthropic\n",
    "  \n",
    "load_dotenv()  \n",
    "  \n",
    "llm = ChatAnthropic(temperature=0, model_name=\"claude-3-haiku-20240307\")  \n",
    "  \n",
    "llm_transformer = LLMGraphTransformer(llm=llm)"
   ],
   "metadata": {
    "collapsed": false
   },
   "id": "748847bca9e66706"
  },
  {
   "cell_type": "code",
   "execution_count": null,
   "outputs": [],
   "source": [
    "from langchain_community.chains.graph_qa.prompts import CYPHER_GENERATION_PROMPT\n",
    "\n",
    "graph = Neo4jGraph()\n",
    "\n",
    "def query_graph(graph, query):  \n",
    "    chain = GraphCypherQAChain.from_llm(graph=graph, llm=llm, verbose=True, validate_cypher=True, allow_dangerous_requests = True, top_k = 5, cypher_prompt=CYPHER_GENERATION_PROMPT )  \n",
    "    response = chain.invoke({\"query\": query})  \n",
    "    return response"
   ],
   "metadata": {
    "collapsed": false
   },
   "id": "99176a0f27f3ee88"
  },
  {
   "cell_type": "code",
   "execution_count": null,
   "outputs": [],
   "source": [
    "response = query_graph(graph, \"What health problems did Nicola Tesla have?\")\n",
    "print(response)"
   ],
   "metadata": {
    "collapsed": false
   },
   "id": "b57b158d3a091e8a"
  },
  {
   "cell_type": "code",
   "execution_count": null,
   "outputs": [],
   "source": [
    "text = \"\"\"Medical information about Nicola Tesla:\n",
    "Mental health: Tesla was known to have obsessive-compulsive tendencies. He was particular about cleanliness and had specific routines and habits.\n",
    "Sleep patterns: Tesla reportedly slept very little, claiming to sleep only about two hours per night. However, he was said to occasionally nap during the day.\n",
    "Diet: In his later years, Tesla became a vegetarian. He was very particular about his food and would often only eat honey, milk, and vegetables.\n",
    "Celibacy: Tesla practiced lifelong celibacy, believing it helped him focus on his work.\n",
    "Phobias: He had several phobias, including a fear of germs (mysophobia) and an aversion to pearls and earrings on women.\n",
    "Physical health: Despite his eccentric habits, Tesla lived to be 86 years old, which was well above the average life expectancy for his time.\n",
    "Possible neurological condition: Some modern researchers have speculated that Tesla may have had a neurological condition, possibly a high-functioning form of autism or Asperger's syndrome, based on his behaviors and work patterns.\n",
    "Vision and auditory experiences: Tesla claimed to have vivid flashes of light accompanied by visions, particularly in his younger years. He also reported having acute hearing sensitivity.\n",
    "Later life health issues: In his later years, Tesla was known to have become increasingly frail and had suffered at least one nervous breakdown.\n",
    "\"\"\""
   ],
   "metadata": {
    "collapsed": false
   },
   "id": "31ebb9cc4bcfed79"
  },
  {
   "cell_type": "code",
   "execution_count": null,
   "outputs": [],
   "source": [
    "def add_knowledge_to_graph( text):\n",
    "    documents = [Document(page_content=text)]\n",
    "    graph_documents = llm_transformer.convert_to_graph_documents(documents)\n",
    "    graph.add_graph_documents(graph_documents)\n",
    "\n",
    "    graph.refresh_schema()  # Refreshes the Neo4j graph schema information.\n",
    "    \n",
    "add_knowledge_to_graph(text)"
   ],
   "metadata": {
    "collapsed": false
   },
   "id": "cd9eb11f56c011c5"
  },
  {
   "cell_type": "code",
   "execution_count": null,
   "outputs": [],
   "source": [
    "response = query_graph(graph, \"What health problems did Nicola Tesla have?\")\n",
    "print(response)"
   ],
   "metadata": {
    "collapsed": false
   },
   "id": "8a2d56a7313f79a4"
  }
 ],
 "metadata": {
  "kernelspec": {
   "display_name": "Python 3",
   "language": "python",
   "name": "python3"
  },
  "language_info": {
   "codemirror_mode": {
    "name": "ipython",
    "version": 2
   },
   "file_extension": ".py",
   "mimetype": "text/x-python",
   "name": "python",
   "nbconvert_exporter": "python",
   "pygments_lexer": "ipython2",
   "version": "2.7.6"
  }
 },
 "nbformat": 4,
 "nbformat_minor": 5
}
